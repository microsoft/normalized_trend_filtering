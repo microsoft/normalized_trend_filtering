{
 "cells": [
  {
   "cell_type": "code",
   "execution_count": 1,
   "metadata": {},
   "outputs": [],
   "source": [
    "import pandas as pd\n",
    "import numpy as np\n",
    "import sys \n",
    "import os\n",
    "import itertools\n",
    "import time\n",
    "import random\n",
    "\n",
    "#import utils\n",
    "sys.path.insert(0, '../utils/')\n",
    "from utils_preprocess_v3 import *\n",
    "from utils_modeling_v9 import *\n",
    "from utils_plots_v2 import *\n",
    "\n",
    "#sklearn\n",
    "from sklearn.metrics import mean_squared_error\n",
    "from sklearn.linear_model import LogisticRegression\n",
    "from sklearn.model_selection import train_test_split\n",
    "\n",
    "import warnings\n",
    "warnings.filterwarnings(\"ignore\")\n",
    "\n",
    "start_time = time.time()"
   ]
  },
  {
   "cell_type": "markdown",
   "metadata": {},
   "source": [
    "# load datasets"
   ]
  },
  {
   "cell_type": "code",
   "execution_count": 2,
   "metadata": {},
   "outputs": [],
   "source": [
    "data = pd.read_csv('../data/datasets_processed/VanAllen_data.csv', index_col = 0)\n",
    "response = pd.read_csv('../data/datasets_processed/VanAllen_response.csv')\n",
    "interactome = pd.read_csv('../data/interactomes/inbiomap_processed.txt', sep = '\\t')"
   ]
  },
  {
   "cell_type": "markdown",
   "metadata": {},
   "source": [
    "# preprocess"
   ]
  },
  {
   "cell_type": "code",
   "execution_count": 3,
   "metadata": {},
   "outputs": [],
   "source": [
    "# get nodes from data and graph\n",
    "data_nodes = data['node'].tolist()\n",
    "interactome_nodes = list(set(np.concatenate((interactome['node1'], interactome['node2']))))\n",
    "\n",
    "# organize data\n",
    "organize = Preprocessing()\n",
    "save_location = '../data/reduced_interactomes/reduced_interactome_VanAllen.txt'\n",
    "organize.transform(data_nodes, interactome_nodes, interactome, data, save_location, load_graph = True)"
   ]
  },
  {
   "cell_type": "code",
   "execution_count": 4,
   "metadata": {},
   "outputs": [],
   "source": [
    "# extract info from preprocessing\n",
    "X = organize.sorted_X.T.values\n",
    "y = response['PFS'].values.reshape(-1,1)\n",
    "L_norm = organize.L_norm\n",
    "L = organize.L\n",
    "L_norm_dagger = scipy.linalg.pinv(L_norm.todense())\n",
    "\n",
    "g = organize.g\n",
    "num_to_node = organize.num_to_node\n",
    "\n",
    "# split for training\n",
    "X_train, X_test, y_train, y_test = train_test_split(X, y, test_size=0.20, random_state=42)\n",
    "\n",
    "# scaling X\n",
    "scaler_X = StandardScaler()\n",
    "X_train = scaler_X.fit_transform(X_train)\n",
    "X_test = scaler_X.transform(X_test)\n",
    "\n",
    "# scalying y\n",
    "scaler_y = StandardScaler()\n",
    "y_train = scaler_y.fit_transform(y_train).reshape(-1)\n",
    "y_test = scaler_y.transform(y_test).reshape(-1)"
   ]
  },
  {
   "cell_type": "code",
   "execution_count": 5,
   "metadata": {},
   "outputs": [],
   "source": [
    "# define training params #RERUN WITH SOLVER PARAMS\n",
    "alpha_list = np.logspace(-1,0,15)\n",
    "threshold_list = np.logspace(-3,-1,10)\n",
    "max_features = 10\n",
    "solver_params = {'max_iters':50000}\n",
    "solver = cp.SCS"
   ]
  },
  {
   "cell_type": "markdown",
   "metadata": {},
   "source": [
    "# Lasso "
   ]
  },
  {
   "cell_type": "code",
   "execution_count": 38,
   "metadata": {},
   "outputs": [],
   "source": [
    "VanillaLasso = LaplacianRegression('Lasso')\n",
    "VanillaLasso.fit(X_train, y_train, X_test, y_test, alpha_list, threshold_list, L=None,\n",
    "                 max_features=max_features, solver=solver, solver_params=solver_params, \n",
    "                 force_features=True, verbose=True, n_jobs=15)"
   ]
  },
  {
   "cell_type": "code",
   "execution_count": 39,
   "metadata": {},
   "outputs": [
    {
     "data": {
      "image/png": "[encoded data removed]",
      "text/plain": [
       "<Figure size 432x288 with 2 Axes>"
      ]
     },
     "metadata": {
      "needs_background": "light"
     },
     "output_type": "display_data"
    }
   ],
   "source": [
    "VanillaLasso.plotgridsearch()"
   ]
  },
  {
   "cell_type": "code",
   "execution_count": 40,
   "metadata": {},
   "outputs": [
    {
     "name": "stdout",
     "output_type": "stream",
     "text": [
      "Test MSE :  0.6940432287679031\n"
     ]
    }
   ],
   "source": [
    "print('Test MSE : ' ,VanillaLasso.predict(X_test, y_test))"
   ]
  },
  {
   "cell_type": "code",
   "execution_count": 41,
   "metadata": {},
   "outputs": [
    {
     "data": {
      "image/png": "[encoded data removed]",
      "text/plain": [
       "<Figure size 432x288 with 1 Axes>"
      ]
     },
     "metadata": {},
     "output_type": "display_data"
    }
   ],
   "source": [
    "getTranslatedNodes(VanillaLasso.feats_, VanillaLasso.regr_.coef_, num_to_node, g,)"
   ]
  },
  {
   "cell_type": "markdown",
   "metadata": {},
   "source": [
    "# NTF-Lasso"
   ]
  },
  {
   "cell_type": "code",
   "execution_count": 6,
   "metadata": {},
   "outputs": [
    {
     "name": "stderr",
     "output_type": "stream",
     "text": [
      "[Parallel(n_jobs=15)]: Using backend LokyBackend with 15 concurrent workers.\n",
      "[Parallel(n_jobs=15)]: Done   2 out of  15 | elapsed: 26.6min remaining: 172.8min\n",
      "[Parallel(n_jobs=15)]: Done  15 out of  15 | elapsed: 266.9min finished\n"
     ]
    },
    {
     "name": "stdout",
     "output_type": "stream",
     "text": [
      "----------------------------------------------------------------------------\n",
      "\tSCS v2.1.1 - Splitting Conic Solver\n",
      "\t(c) Brendan O'Donoghue, Stanford University, 2012\n",
      "----------------------------------------------------------------------------\n",
      "Lin-sys: sparse-direct, nnz in A = 3837464\n",
      "eps = 1.00e-04, alpha = 1.50, max_iters = 50000, normalize = 1, scale = 1.00\n",
      "acceleration_lookback = 10, rho_x = 1.00e-03\n",
      "Variables n = 34296, constraints m = 34394\n",
      "Cones:\tlinear vars: 34294\n",
      "\tsoc vars: 100, soc blks: 2\n",
      "Setup time: 4.98e+02s\n",
      "----------------------------------------------------------------------------\n",
      " Iter | pri res | dua res | rel gap | pri obj | dua obj | kap/tau | time (s)\n",
      "----------------------------------------------------------------------------\n",
      "     0| 1.57e+21  2.45e+21  1.00e+00 -7.33e+22  2.98e+20  1.44e+22  5.35e-01 \n",
      "   100| 3.14e-03  3.30e-02  1.72e-02  1.00e+00  9.50e-01  8.61e-16  3.34e+01 \n",
      "   200| 1.66e-03  4.45e-02  5.59e-02  8.26e-01  9.83e-01  2.73e-15  6.76e+01 \n",
      "   300| 2.00e-03  4.64e-02  1.95e-02  8.63e-01  9.17e-01  1.07e-15  1.03e+02 \n",
      "   400| 1.50e-03  7.55e-02  1.26e-02  7.00e-01  6.71e-01  1.87e-16  1.36e+02 \n",
      "   500| 1.14e-03  1.96e-02  2.54e-02  6.44e-01  5.88e-01  1.89e-15  1.66e+02 \n",
      "   600| 3.42e-03  1.82e-01  3.04e-01  4.77e-01  2.15e-02  6.63e-15  1.97e+02 \n",
      "   700| 1.58e-03  4.24e-02  8.75e-03  5.48e-01  5.67e-01  2.29e-15  2.35e+02 \n",
      "   800| 2.04e-03  4.87e-02  3.59e-02  5.81e-01  6.62e-01  4.88e-15  2.73e+02 \n",
      "   900| 1.40e-03  4.03e-02  2.21e-02  3.86e-01  3.47e-01  5.87e-17  3.09e+02 \n",
      "  1000| 2.55e-03  7.36e-02  9.24e-02  3.19e-01  1.81e-01  8.89e-16  3.43e+02 \n",
      "  1100| 9.83e-04  3.93e-02  7.39e-02  5.21e-01  6.84e-01  2.01e-15  3.76e+02 \n",
      "  1200| 1.49e-03  4.91e-02  3.23e-02  4.48e-01  3.89e-01  7.08e-15  4.09e+02 \n",
      "  1300| 1.67e-03  6.96e-02  3.36e-02  3.60e-01  4.20e-01  8.23e-15  4.41e+02 \n",
      "  1400| 4.89e-04  1.59e-02  9.17e-03  4.50e-01  4.68e-01  8.80e-15  4.73e+02 \n",
      "  1500| 1.52e-03  3.74e-02  2.56e-02  3.49e-01  3.06e-01  4.98e-15  5.05e+02 \n",
      "  1600| 4.80e-04  2.31e-02  9.66e-03  3.92e-01  4.09e-01  3.57e-15  5.39e+02 \n",
      "  1700| 3.28e-04  1.52e-02  2.83e-03  4.10e-01  4.05e-01  3.05e-15  5.74e+02 \n",
      "  1800| 5.41e-04  2.66e-02  7.71e-03  4.27e-01  4.12e-01  3.53e-15  6.09e+02 \n",
      "  1900| 3.47e-04  1.74e-02  3.77e-03  4.26e-01  4.33e-01  6.74e-16  6.42e+02 \n",
      "  2000| 4.38e-04  3.08e-02  1.90e-02  4.15e-01  4.51e-01  2.85e-16  6.76e+02 \n",
      "  2100| 5.38e-04  2.84e-02  2.61e-02  4.08e-01  3.62e-01  1.82e-15  7.10e+02 \n",
      "  2200| 2.31e-04  1.69e-02  1.37e-02  4.06e-01  4.31e-01  2.76e-15  7.43e+02 \n",
      "  2300| 1.55e-04  6.10e-03  9.29e-03  4.12e-01  4.30e-01  2.19e-16  7.76e+02 \n",
      "  2400| 3.16e-04  1.52e-02  1.23e-03  4.25e-01  4.23e-01  1.34e-15  8.13e+02 \n",
      "  2500| 3.14e-04  1.65e-02  2.22e-03  4.24e-01  4.28e-01  6.52e-16  8.51e+02 \n",
      "  2600| 1.61e-03  6.42e-02  8.25e-02  4.13e-01  5.78e-01  6.26e-15  8.88e+02 \n",
      "  2700| 1.14e-04  7.30e-03  1.12e-02  3.97e-01  3.77e-01  7.34e-18  9.24e+02 \n",
      "  2800| 7.49e-04  4.04e-02  4.38e-02  4.22e-01  5.06e-01  1.21e-15  9.56e+02 \n",
      "  2900| 8.27e-04  4.07e-02  4.18e-02  4.19e-01  4.99e-01  4.71e-15  9.87e+02 \n",
      "  3000| 1.54e-04  6.21e-03  6.12e-03  4.09e-01  3.98e-01  1.40e-15  1.02e+03 \n",
      "  3100| 6.05e-04  5.18e-02  4.34e-03  3.86e-01  3.94e-01  1.91e-15  1.05e+03 \n",
      "  3200| 1.14e-04  7.83e-03  4.22e-03  4.07e-01  4.15e-01  5.96e-15  1.09e+03 \n",
      "  3300| 6.31e-05  3.60e-03  5.84e-04  4.06e-01  4.05e-01  9.26e-16  1.12e+03 \n",
      "  3400| 6.82e-05  5.10e-03  4.03e-03  4.07e-01  4.14e-01  4.94e-15  1.15e+03 \n",
      "  3500| 5.05e-05  2.30e-03  4.18e-04  4.03e-01  4.04e-01  1.38e-15  1.18e+03 \n",
      "  3600| 3.78e-05  3.26e-03  4.65e-03  4.05e-01  3.96e-01  3.27e-16  1.21e+03 \n",
      "  3700| 5.20e-05  2.36e-03  2.16e-03  4.05e-01  4.08e-01  3.83e-15  1.25e+03 \n",
      "  3800| 5.64e-05  1.84e-03  2.97e-03  4.09e-01  4.15e-01  3.07e-15  1.28e+03 \n",
      "  3900| 2.12e-05  1.72e-03  2.45e-03  4.07e-01  4.11e-01  5.32e-15  1.32e+03 \n",
      "  4000| 2.57e-05  8.10e-04  6.33e-04  4.06e-01  4.07e-01  2.69e-15  1.36e+03 \n",
      "  4100| 2.92e-05  1.05e-03  1.01e-03  4.07e-01  4.09e-01  2.06e-15  1.39e+03 \n",
      "  4200| 2.20e-05  1.14e-03  7.08e-04  4.07e-01  4.08e-01  1.85e-15  1.43e+03 \n",
      "  4300| 2.93e-05  1.78e-03  1.07e-03  4.08e-01  4.10e-01  2.19e-15  1.46e+03 \n",
      "  4400| 3.16e-05  1.66e-03  2.11e-03  4.08e-01  4.11e-01  9.50e-16  1.50e+03 \n",
      "  4500| 1.02e-05  7.58e-04  6.04e-04  4.06e-01  4.05e-01  6.20e-16  1.53e+03 \n",
      "  4600| 1.62e-05  5.59e-04  3.79e-04  4.06e-01  4.05e-01  3.15e-15  1.56e+03 \n",
      "  4700| 1.24e-05  8.49e-04  2.17e-04  4.06e-01  4.06e-01  4.89e-15  1.59e+03 \n",
      "  4800| 9.55e-06  6.93e-04  1.37e-04  4.06e-01  4.06e-01  7.45e-16  1.63e+03 \n",
      "  4900| 8.19e-06  3.85e-04  8.56e-04  4.06e-01  4.04e-01  5.88e-15  1.66e+03 \n",
      "  5000| 1.24e-05  6.83e-04  6.64e-04  4.06e-01  4.05e-01  3.11e-15  1.69e+03 \n",
      "  5100| 8.81e-06  3.79e-04  2.88e-04  4.07e-01  4.07e-01  1.36e-15  1.73e+03 \n",
      "  5200| 1.12e-05  5.81e-04  1.61e-04  4.05e-01  4.05e-01  2.68e-16  1.76e+03 \n",
      "  5300| 6.44e-06  3.87e-04  5.65e-04  4.06e-01  4.07e-01  1.21e-15  1.80e+03 \n",
      "  5400| 4.37e-06  1.85e-04  2.50e-04  4.06e-01  4.07e-01  5.61e-15  1.83e+03 \n",
      "  5500| 2.18e-06  1.07e-04  1.50e-04  4.06e-01  4.06e-01  4.50e-15  1.86e+03 \n",
      "  5600| 4.45e-06  1.56e-04  5.25e-05  4.06e-01  4.06e-01  2.60e-15  1.89e+03 \n",
      "  5700| 1.14e-06  1.09e-04  1.95e-06  4.06e-01  4.06e-01  3.03e-15  1.92e+03 \n",
      "  5740| 1.54e-06  8.98e-05  6.29e-05  4.06e-01  4.06e-01  5.55e-16  1.94e+03 \n",
      "----------------------------------------------------------------------------\n",
      "Status: Solved\n",
      "Timing: Solve time: 1.94e+03s\n",
      "\tLin-sys: nnz in L factor: 91681652, avg solve time: 3.31e-01s\n",
      "\tCones: avg projection time: 2.57e-05s\n",
      "\tAcceleration: avg step time: 4.08e-03s\n",
      "----------------------------------------------------------------------------\n",
      "Error metrics:\n",
      "dist(s, K) = 3.5527e-15, dist(y, K*) = 0.0000e+00, s'y/|s||y| = -5.7446e-19\n",
      "primal res: |Ax + s - b|_2 / (1 + |b|_2) = 1.5351e-06\n",
      "dual res:   |A'y + c|_2 / (1 + |c|_2) = 8.9778e-05\n",
      "rel gap:    |c'x + b'y| / (1 + |c'x| + |b'y|) = 6.2894e-05\n",
      "----------------------------------------------------------------------------\n",
      "c'x = 0.4062, -b'y = 0.4063\n",
      "============================================================================\n"
     ]
    }
   ],
   "source": [
    "NTFLasso = LaplacianRegression('Lasso')\n",
    "NTFLasso.fit(X_train, y_train, X_test, y_test, alpha_list, threshold_list, L=L_norm, \n",
    "             max_features=max_features, solver=solver, solver_params=solver_params,\n",
    "             force_features=True, verbose=True, n_jobs=15,)"
   ]
  },
  {
   "cell_type": "code",
   "execution_count": 8,
   "metadata": {},
   "outputs": [
    {
     "data": {
      "image/png": "[encoded data removed]",
      "text/plain": [
       "<Figure size 432x288 with 2 Axes>"
      ]
     },
     "metadata": {
      "needs_background": "light"
     },
     "output_type": "display_data"
    }
   ],
   "source": [
    "NTFLasso.plotgridsearch()"
   ]
  },
  {
   "cell_type": "code",
   "execution_count": 49,
   "metadata": {},
   "outputs": [
    {
     "name": "stdout",
     "output_type": "stream",
     "text": [
      "Test MSE :  0.6506455591772053\n"
     ]
    }
   ],
   "source": [
    "print('Test MSE : ' ,NTFLasso.predict(X_test, y_test))"
   ]
  },
  {
   "cell_type": "code",
   "execution_count": 51,
   "metadata": {},
   "outputs": [
    {
     "data": {
      "image/png": "[encoded data removed]",
      "text/plain": [
       "<Figure size 432x288 with 1 Axes>"
      ]
     },
     "metadata": {},
     "output_type": "display_data"
    }
   ],
   "source": [
    "getTranslatedNodes(NTFLasso.feats_, NTFLasso.regr_.coef_, num_to_node, g)"
   ]
  },
  {
   "cell_type": "markdown",
   "metadata": {},
   "source": [
    "# Ridge"
   ]
  },
  {
   "cell_type": "code",
   "execution_count": null,
   "metadata": {},
   "outputs": [],
   "source": [
    "VanillaRidge = LaplacianRegression('Ridge')\n",
    "VanillaRidge.fit(X_train, y_train, X_test, y_test, alpha_list, threshold_list, L=None, \n",
    "                 max_features = max_features, solver=solver, solver_params=solver_params,\n",
    "                 force_features=True, verbose=True, n_jobs=15)"
   ]
  },
  {
   "cell_type": "code",
   "execution_count": 53,
   "metadata": {},
   "outputs": [
    {
     "data": {
      "image/png": "[encoded data removed]",
      "text/plain": [
       "<Figure size 432x288 with 2 Axes>"
      ]
     },
     "metadata": {
      "needs_background": "light"
     },
     "output_type": "display_data"
    }
   ],
   "source": [
    "VanillaRidge.plotgridsearch()"
   ]
  },
  {
   "cell_type": "code",
   "execution_count": 54,
   "metadata": {},
   "outputs": [
    {
     "name": "stdout",
     "output_type": "stream",
     "text": [
      "Test MSE :  0.8792177183874539\n"
     ]
    }
   ],
   "source": [
    "print('Test MSE : ' ,VanillaRidge.predict(X_test, y_test))"
   ]
  },
  {
   "cell_type": "code",
   "execution_count": 55,
   "metadata": {},
   "outputs": [
    {
     "data": {
      "image/png": "[encoded data removed]",
      "text/plain": [
       "<Figure size 432x288 with 1 Axes>"
      ]
     },
     "metadata": {},
     "output_type": "display_data"
    }
   ],
   "source": [
    "getTranslatedNodes(VanillaRidge.feats_, VanillaRidge.regr_.coef_, num_to_node, g,)"
   ]
  },
  {
   "cell_type": "markdown",
   "metadata": {},
   "source": [
    "# NTF-Ridge"
   ]
  },
  {
   "cell_type": "code",
   "execution_count": 9,
   "metadata": {
    "scrolled": true
   },
   "outputs": [
    {
     "name": "stderr",
     "output_type": "stream",
     "text": [
      "[Parallel(n_jobs=15)]: Using backend LokyBackend with 15 concurrent workers.\n",
      "[Parallel(n_jobs=15)]: Done   2 out of  15 | elapsed: 150.0min remaining: 975.2min\n",
      "[Parallel(n_jobs=15)]: Done  15 out of  15 | elapsed: 164.0min finished\n"
     ]
    },
    {
     "name": "stdout",
     "output_type": "stream",
     "text": [
      "----------------------------------------------------------------------------\n",
      "\tSCS v2.1.1 - Splitting Conic Solver\n",
      "\t(c) Brendan O'Donoghue, Stanford University, 2012\n",
      "----------------------------------------------------------------------------\n",
      "Lin-sys: sparse-direct, nnz in A = 208187165\n",
      "eps = 1.00e-04, alpha = 1.50, max_iters = 5000, normalize = 1, scale = 1.00\n",
      "acceleration_lookback = 10, rho_x = 1.00e-03\n",
      "Variables n = 17150, constraints m = 17246\n",
      "Cones:\tsoc vars: 17246, soc blks: 3\n",
      "Setup time: 3.80e+03s\n",
      "----------------------------------------------------------------------------\n",
      " Iter | pri res | dua res | rel gap | pri obj | dua obj | kap/tau | time (s)\n",
      "----------------------------------------------------------------------------\n",
      "     0| 1.76e+19  7.78e+18  1.00e+00 -4.81e+18  4.31e+16  1.20e+19  2.45e+01 \n",
      "    33| 9.96e-10  2.93e-11  2.51e-12  1.73e-03  1.73e-03  6.08e-19  5.47e+01 \n",
      "----------------------------------------------------------------------------\n",
      "Status: Solved\n",
      "Timing: Solve time: 5.47e+01s\n",
      "\tLin-sys: nnz in L factor: 313113210, avg solve time: 9.01e-01s\n",
      "\tCones: avg projection time: 2.60e-05s\n",
      "\tAcceleration: avg step time: 7.17e-03s\n",
      "----------------------------------------------------------------------------\n",
      "Error metrics:\n",
      "dist(s, K) = 1.3323e-15, dist(y, K*) = 2.2204e-16, s'y/|s||y| = -1.5412e-15\n",
      "primal res: |Ax + s - b|_2 / (1 + |b|_2) = 9.9570e-10\n",
      "dual res:   |A'y + c|_2 / (1 + |c|_2) = 2.9263e-11\n",
      "rel gap:    |c'x + b'y| / (1 + |c'x| + |b'y|) = 2.5107e-12\n",
      "----------------------------------------------------------------------------\n",
      "c'x = 0.0017, -b'y = 0.0017\n",
      "============================================================================\n"
     ]
    }
   ],
   "source": [
    "NTFRidge = LaplacianRegression('Ridge')\n",
    "NTFRidge.fit(X_train, y_train, X_test, y_test, alpha_list, threshold_list, L=L_norm,\n",
    "             max_features=max_features, solver=solver, solver_params=solver_params, \n",
    "             force_features=True, verbose=True, n_jobs=15)"
   ]
  },
  {
   "cell_type": "code",
   "execution_count": 14,
   "metadata": {},
   "outputs": [
    {
     "data": {
      "image/png": "[encoded data removed]",
      "text/plain": [
       "<Figure size 432x288 with 2 Axes>"
      ]
     },
     "metadata": {
      "needs_background": "light"
     },
     "output_type": "display_data"
    }
   ],
   "source": [
    "NTFRidge.plotgridsearch()"
   ]
  },
  {
   "cell_type": "code",
   "execution_count": 12,
   "metadata": {},
   "outputs": [
    {
     "name": "stdout",
     "output_type": "stream",
     "text": [
      "Test MSE :  0.7676293690648656\n"
     ]
    }
   ],
   "source": [
    "print('Test MSE : ' ,NTFRidge.predict(X_test, y_test))"
   ]
  },
  {
   "cell_type": "code",
   "execution_count": 13,
   "metadata": {},
   "outputs": [
    {
     "data": {
      "image/png": "[encoded data removed]",
      "text/plain": [
       "<Figure size 432x288 with 1 Axes>"
      ]
     },
     "metadata": {},
     "output_type": "display_data"
    }
   ],
   "source": [
    "getTranslatedNodes(NTFRidge.feats_, NTFRidge.regr_.coef_, num_to_node, g, )"
   ]
  },
  {
   "cell_type": "markdown",
   "metadata": {},
   "source": [
    "# TF-Lasso (Graph TF)"
   ]
  },
  {
   "cell_type": "code",
   "execution_count": 70,
   "metadata": {},
   "outputs": [
    {
     "name": "stderr",
     "output_type": "stream",
     "text": [
      "[Parallel(n_jobs=-1)]: Using backend LokyBackend with 96 concurrent workers.\n",
      "[Parallel(n_jobs=-1)]: Done  15 out of  15 | elapsed: 353.1min finished\n"
     ]
    },
    {
     "name": "stdout",
     "output_type": "stream",
     "text": [
      "----------------------------------------------------------------------------\n",
      "\tSCS v2.1.1 - Splitting Conic Solver\n",
      "\t(c) Brendan O'Donoghue, Stanford University, 2012\n",
      "----------------------------------------------------------------------------\n",
      "Lin-sys: sparse-direct, nnz in A = 3837464\n",
      "eps = 1.00e-04, alpha = 1.50, max_iters = 50000, normalize = 1, scale = 1.00\n",
      "acceleration_lookback = 10, rho_x = 1.00e-03\n",
      "Variables n = 34296, constraints m = 34394\n",
      "Cones:\tlinear vars: 34294\n",
      "\tsoc vars: 100, soc blks: 2\n",
      "Setup time: 8.02e+02s\n",
      "----------------------------------------------------------------------------\n",
      " Iter | pri res | dua res | rel gap | pri obj | dua obj | kap/tau | time (s)\n",
      "----------------------------------------------------------------------------\n",
      "     0| 7.87e+21  3.39e+21  1.00e+00 -7.93e+23  8.05e+21  1.69e+23  7.70e-01 \n",
      "   100| 2.05e-03  3.24e-01  1.86e-01  1.19e+00  6.61e-01  2.68e-14  3.91e+01 \n",
      "   200| 1.15e-03  1.30e-01  3.21e-02  1.20e+00  1.09e+00  1.79e-15  7.57e+01 \n",
      "   300| 1.15e-03  1.48e-01  1.38e-02  1.13e+00  1.09e+00  2.61e-14  1.15e+02 \n",
      "   400| 6.88e-04  1.37e-01  7.12e-02  1.13e+00  1.38e+00  5.87e-16  1.55e+02 \n",
      "   500| 1.34e-03  2.59e-01  9.72e-02  1.12e+00  1.47e+00  5.96e-14  1.95e+02 \n",
      "   600| 1.29e-03  2.09e-01  8.30e-02  1.12e+00  1.41e+00  4.03e-14  2.33e+02 \n",
      "   700| 6.51e-04  1.31e-01  6.97e-02  1.08e+00  1.31e+00  1.29e-14  2.72e+02 \n",
      "   800| 5.14e-04  6.46e-02  1.64e-03  1.05e+00  1.05e+00  9.24e-15  3.10e+02 \n",
      "   900| 5.78e-04  8.01e-02  3.53e-02  1.03e+00  1.14e+00  2.82e-14  3.48e+02 \n",
      "  1000| 6.08e-04  1.09e-01  4.73e-02  1.06e+00  1.21e+00  2.18e-14  3.87e+02 \n",
      "  1100| 7.20e-04  7.09e-02  1.68e-02  1.06e+00  1.11e+00  6.37e-14  4.25e+02 \n",
      "  1200| 4.91e-04  7.15e-02  1.91e-02  9.88e-01  1.05e+00  3.61e-15  4.62e+02 \n",
      "  1300| 1.22e-03  1.12e-01  4.84e-02  1.10e+00  9.48e-01  1.23e-14  5.02e+02 \n",
      "  1400| 5.40e-04  1.39e-01  5.48e-02  1.02e+00  8.59e-01  2.24e-14  5.41e+02 \n",
      "  1500| 1.02e-03  9.76e-02  4.27e-02  1.06e+00  1.19e+00  2.07e-14  5.84e+02 \n",
      "  1600| 1.15e-03  1.68e-01  4.41e-02  1.06e+00  1.20e+00  1.53e-14  6.22e+02 \n",
      "  1700| 8.58e-04  1.58e-01  5.60e-02  9.97e-01  8.38e-01  4.18e-16  6.61e+02 \n",
      "  1800| 8.63e-04  1.17e-01  1.66e-02  1.03e+00  9.84e-01  3.14e-14  6.99e+02 \n",
      "  1900| 1.29e-03  1.06e-01  6.07e-04  1.07e+00  1.07e+00  3.19e-14  7.38e+02 \n",
      "  2000| 1.70e-03  1.51e-01  2.72e-02  1.09e+00  1.18e+00  2.41e-14  7.78e+02 \n",
      "  2100| 1.11e-03  1.37e-01  8.78e-02  8.36e-01  1.09e+00  1.38e-14  8.14e+02 \n",
      "  2200| 1.35e-03  1.05e-01  2.00e-02  1.03e+00  1.10e+00  1.09e-14  8.54e+02 \n",
      "  2300| 5.36e-04  8.32e-02  5.79e-02  9.64e-01  1.14e+00  3.16e-14  8.98e+02 \n",
      "  2400| 9.52e-04  1.50e-01  6.44e-02  9.87e-01  8.07e-01  2.80e-14  9.38e+02 \n",
      "  2500| 6.10e-04  1.04e-01  9.17e-02  8.54e-01  1.13e+00  1.75e-14  9.81e+02 \n",
      "  2600| 9.60e-04  1.32e-01  3.01e-02  9.82e-01  1.07e+00  2.13e-14  1.02e+03 \n",
      "  2700| 5.34e-04  7.98e-02  1.13e-02  9.30e-01  8.98e-01  2.43e-14  1.06e+03 \n",
      "  2800| 7.54e-04  1.54e-01  4.36e-02  9.27e-01  8.07e-01  3.92e-14  1.10e+03 \n",
      "  2900| 1.30e-03  1.55e-01  3.24e-02  1.00e+00  9.07e-01  5.78e-14  1.14e+03 \n",
      "  3000| 4.20e-04  6.59e-02  6.46e-03  8.67e-01  8.85e-01  8.00e-14  1.18e+03 \n",
      "  3100| 4.80e-04  1.03e-01  5.84e-02  8.39e-01  1.01e+00  2.36e-14  1.22e+03 \n",
      "  3200| 7.76e-04  1.02e-01  3.48e-02  7.91e-01  8.84e-01  3.68e-14  1.26e+03 \n",
      "  3300| 1.48e-03  7.67e-02  9.76e-03  9.97e-01  9.68e-01  2.71e-14  1.30e+03 \n",
      "  3400| 8.13e-04  1.15e-01  3.37e-02  9.20e-01  8.28e-01  1.27e-14  1.34e+03 \n",
      "  3500| 6.28e-04  1.19e-01  6.09e-02  8.24e-01  9.95e-01  3.89e-14  1.38e+03 \n",
      "  3600| 1.16e-03  1.05e-01  9.27e-02  9.50e-01  1.25e+00  4.77e-14  1.42e+03 \n",
      "  3700| 2.11e-03  4.22e-01  2.61e-01  7.30e-01  1.60e+00  3.69e-14  1.46e+03 \n",
      "  3800| 7.36e-04  9.48e-02  5.92e-03  8.73e-01  8.90e-01  1.24e-14  1.50e+03 \n",
      "  3900| 2.94e-04  5.81e-02  2.32e-03  8.26e-01  8.20e-01  4.14e-14  1.54e+03 \n",
      "  4000| 6.20e-04  1.47e-01  7.55e-02  8.64e-01  6.72e-01  2.98e-14  1.58e+03 \n",
      "  4100| 1.78e-03  6.79e-02  4.29e-02  9.87e-01  1.12e+00  1.69e-15  1.62e+03 \n",
      "  4200| 7.03e-04  1.87e-01  7.34e-02  8.33e-01  6.51e-01  1.63e-14  1.66e+03 \n",
      "  4300| 2.17e-03  1.10e-01  8.95e-02  1.01e+00  1.31e+00  4.61e-14  1.70e+03 \n",
      "  4400| 1.60e-03  1.52e-01  1.24e-02  9.39e-01  9.04e-01  9.62e-16  1.74e+03 \n",
      "  4500| 1.22e-03  1.23e-01  5.35e-02  6.65e-01  5.47e-01  1.25e-14  1.77e+03 \n",
      "  4600| 5.05e-04  1.22e-01  9.59e-02  7.98e-01  5.71e-01  6.12e-14  1.81e+03 \n",
      "  4700| 1.81e-03  1.38e-01  1.54e-02  9.57e-01  1.00e+00  2.07e-14  1.85e+03 \n",
      "  4800| 1.32e-03  9.03e-02  6.59e-02  9.01e-01  1.10e+00  1.23e-14  1.90e+03 \n",
      "  4900| 6.25e-04  1.14e-01  1.07e-01  7.92e-01  1.10e+00  6.10e-14  1.93e+03 \n",
      "  5000| 1.52e-03  1.64e-01  9.18e-02  9.06e-01  1.19e+00  6.31e-14  1.97e+03 \n",
      "  5100| 4.82e-04  1.41e-01  1.11e-01  7.69e-01  1.09e+00  1.55e-14  2.01e+03 \n",
      "  5200| 6.19e-04  1.50e-01  4.29e-02  7.95e-01  9.11e-01  2.04e-14  2.05e+03 \n",
      "  5300| 4.27e-04  1.06e-01  1.06e-02  7.37e-01  7.64e-01  3.10e-14  2.09e+03 \n",
      "  5400| 2.25e-03  9.65e-02  4.09e-02  9.64e-01  1.09e+00  3.33e-14  2.13e+03 \n",
      "  5500| 1.39e-03  1.09e-01  2.73e-02  8.70e-01  9.47e-01  2.44e-14  2.17e+03 \n",
      "  5600| 1.71e-03  8.68e-02  6.87e-03  8.95e-01  9.14e-01  2.17e-14  2.20e+03 \n",
      "  5700| 2.04e-03  9.27e-02  8.96e-02  9.20e-01  1.20e+00  6.98e-14  2.24e+03 \n",
      "  5800| 1.05e-03  1.28e-01  1.58e-02  6.24e-01  5.89e-01  3.67e-14  2.28e+03 \n",
      "  5900| 1.20e-03  5.92e-02  3.32e-02  8.20e-01  9.10e-01  4.21e-14  2.32e+03 \n",
      "  6000| 5.76e-04  6.81e-02  1.88e-02  7.60e-01  8.08e-01  4.53e-14  2.36e+03 \n",
      "  6100| 1.82e-03  1.27e-01  5.46e-02  5.25e-01  4.19e-01  1.70e-14  2.40e+03 \n",
      "  6200| 1.24e-03  1.32e-01  1.52e-01  8.13e-01  1.28e+00  7.27e-15  2.44e+03 \n",
      "  6300| 1.17e-03  7.43e-02  3.26e-02  8.03e-01  8.91e-01  4.01e-14  2.48e+03 \n",
      "  6400| 9.51e-04  1.72e-01  3.76e-02  6.04e-01  6.90e-01  2.05e-14  2.52e+03 \n",
      "  6500| 5.07e-04  1.40e-01  8.84e-02  6.50e-01  8.73e-01  7.99e-15  2.56e+03 \n",
      "  6600| 2.00e-03  7.49e-02  5.93e-02  8.75e-01  1.05e+00  4.42e-14  2.60e+03 \n",
      "  6700| 1.86e-03  3.68e-01  2.16e-01  7.95e-01  1.51e+00  4.02e-15  2.64e+03 \n",
      "  6800| 1.41e-03  2.24e-01  1.09e-01  7.88e-01  5.34e-01  5.96e-15  2.68e+03 \n",
      "  6900| 1.01e-03  1.95e-01  7.45e-02  7.30e-01  5.59e-01  6.16e-14  2.71e+03 \n",
      "  7000| 9.47e-04  2.11e-01  1.88e-01  7.14e-01  1.28e+00  1.89e-14  2.75e+03 \n",
      "  7100| 9.01e-04  7.63e-02  4.15e-02  7.24e-01  8.30e-01  1.15e-14  2.79e+03 \n",
      "  7200| 1.40e-03  1.12e-01  1.46e-01  5.09e-01  2.52e-01  5.22e-14  2.83e+03 \n",
      "  7300| 3.35e-04  8.56e-02  4.79e-02  6.41e-01  5.36e-01  2.55e-14  2.87e+03 \n",
      "  7400| 5.93e-04  1.23e-01  1.29e-02  6.58e-01  6.88e-01  1.05e-14  2.91e+03 \n",
      "  7500| 2.11e-03  1.33e-01  1.14e-01  8.32e-01  1.17e+00  2.85e-14  2.95e+03 \n",
      "  7600| 1.77e-03  1.58e-01  5.24e-02  4.43e-01  5.48e-01  1.30e-14  2.99e+03 \n",
      "  7700| 1.74e-03  1.12e-01  1.36e-02  4.42e-01  4.16e-01  4.33e-14  3.03e+03 \n",
      "  7800| 7.74e-04  1.49e-01  8.04e-02  5.55e-01  7.40e-01  3.56e-15  3.07e+03 \n",
      "  7900| 6.96e-04  1.88e-01  6.82e-02  5.58e-01  4.23e-01  3.51e-14  3.11e+03 \n",
      "  8000| 1.02e-03  1.71e-01  4.19e-02  6.92e-01  5.96e-01  1.06e-14  3.15e+03 \n",
      "  8100| 7.97e-04  1.31e-01  2.70e-02  5.45e-01  4.90e-01  1.60e-14  3.19e+03 \n",
      "  8200| 4.31e-04  9.69e-02  2.82e-02  5.80e-01  6.43e-01  6.53e-14  3.22e+03 \n",
      "  8300| 7.65e-04  1.23e-01  1.02e-01  6.29e-01  8.86e-01  2.35e-14  3.26e+03 \n",
      "  8400| 1.81e-03  9.08e-02  5.87e-02  7.57e-01  9.14e-01  2.23e-15  3.30e+03 \n",
      "  8500| 1.54e-03  6.73e-02  5.94e-02  7.24e-01  8.79e-01  2.49e-14  3.34e+03 \n",
      "  8600| 1.10e-03  9.58e-02  9.87e-02  6.72e-01  4.62e-01  7.25e-15  3.38e+03 \n",
      "  8700| 3.49e-04  5.94e-02  2.69e-02  5.87e-01  5.30e-01  3.86e-15  3.42e+03 \n",
      "  8800| 1.75e-03  1.72e-01  4.03e-02  3.93e-01  4.68e-01  8.47e-14  3.46e+03 \n",
      "  8900| 9.72e-04  1.06e-01  6.54e-02  6.48e-01  5.07e-01  2.11e-14  3.50e+03 \n",
      "  9000| 1.29e-03  1.97e-01  1.55e-01  6.77e-01  1.11e+00  6.88e-14  3.54e+03 \n",
      "  9100| 4.55e-04  1.11e-01  1.70e-02  5.32e-01  5.68e-01  4.30e-14  3.58e+03 \n",
      "  9200| 8.26e-04  1.38e-01  5.16e-02  4.84e-01  5.91e-01  4.80e-14  3.62e+03 \n",
      "  9300| 8.27e-04  2.02e-01  9.07e-02  5.33e-01  7.39e-01  3.38e-14  3.66e+03 \n",
      "  9400| 1.09e-03  6.60e-02  9.27e-02  4.34e-01  2.76e-01  9.76e-14  3.70e+03 \n",
      "  9500| 7.39e-04  6.12e-02  4.73e-02  4.69e-01  3.81e-01  2.67e-14  3.73e+03 \n"
     ]
    },
    {
     "name": "stdout",
     "output_type": "stream",
     "text": [
      "  9600| 1.79e-03  1.02e-01  2.89e-02  7.13e-01  7.85e-01  3.16e-14  3.77e+03 \n",
      "  9700| 4.00e-04  1.08e-01  8.70e-02  5.54e-01  3.85e-01  1.39e-14  3.81e+03 \n",
      "  9800| 2.62e-03  1.50e-01  1.55e-01  7.94e-01  1.27e+00  3.79e-15  3.85e+03 \n",
      "  9900| 7.45e-04  1.21e-01  9.28e-02  4.65e-01  6.62e-01  1.67e-14  3.89e+03 \n",
      " 10000| 8.46e-04  1.59e-01  6.43e-02  5.85e-01  7.34e-01  2.23e-14  3.93e+03 \n",
      " 10100| 1.25e-03  1.01e-01  5.28e-02  6.45e-01  7.73e-01  7.89e-15  3.97e+03 \n",
      " 10200| 1.00e-03  1.26e-01  9.32e-02  6.09e-01  8.37e-01  3.93e-14  4.01e+03 \n",
      " 10300| 1.44e-03  2.51e-01  7.89e-02  4.24e-01  2.89e-01  1.88e-14  4.04e+03 \n",
      " 10400| 4.15e-04  8.17e-02  2.88e-02  5.34e-01  5.95e-01  5.88e-15  4.08e+03 \n",
      " 10500| 4.19e-04  6.80e-02  5.41e-02  5.45e-01  4.38e-01  3.32e-14  4.12e+03 \n",
      " 10600| 7.14e-04  1.46e-01  1.24e-01  5.62e-01  8.62e-01  1.98e-14  4.16e+03 \n",
      " 10700| 1.11e-03  1.29e-01  6.71e-02  6.15e-01  7.75e-01  7.46e-15  4.20e+03 \n",
      " 10800| 1.27e-03  9.84e-02  9.17e-02  6.31e-01  8.60e-01  2.10e-14  4.24e+03 \n",
      " 10900| 2.08e-03  1.85e-01  4.01e-02  2.98e-01  3.65e-01  2.93e-14  4.28e+03 \n",
      " 11000| 1.28e-03  6.91e-02  1.06e-01  3.75e-01  2.07e-01  1.63e-14  4.32e+03 \n",
      " 11100| 4.08e-04  6.95e-02  4.67e-02  4.70e-01  5.65e-01  2.80e-14  4.36e+03 \n",
      " 11200| 1.93e-03  1.31e-01  1.16e-01  6.92e-01  1.00e+00  6.25e-15  4.40e+03 \n",
      " 11300| 5.15e-04  8.37e-02  2.27e-02  5.33e-01  5.81e-01  3.85e-15  4.44e+03 \n",
      " 11400| 1.46e-03  5.85e-02  6.88e-02  6.38e-01  8.06e-01  2.13e-14  4.48e+03 \n",
      " 11500| 9.00e-04  6.82e-02  7.03e-02  5.77e-01  7.40e-01  3.22e-14  4.52e+03 \n",
      " 11600| 2.90e-04  7.19e-02  3.28e-02  4.69e-01  4.07e-01  1.59e-14  4.56e+03 \n",
      " 11700| 6.27e-04  7.36e-02  1.31e-02  5.47e-01  5.75e-01  1.56e-14  4.60e+03 \n",
      " 11800| 2.66e-03  3.32e-01  1.49e-01  2.47e-01  5.08e-01  5.51e-14  4.64e+03 \n",
      " 11900| 5.21e-04  1.14e-01  1.37e-01  4.81e-01  7.94e-01  2.32e-14  4.68e+03 \n",
      " 12000| 6.20e-04  7.74e-02  6.05e-02  5.40e-01  6.74e-01  2.92e-15  4.72e+03 \n",
      " 12100| 4.38e-04  1.55e-01  3.63e-03  4.95e-01  4.88e-01  1.26e-14  4.76e+03 \n",
      " 12200| 6.78e-04  5.74e-02  5.43e-02  4.19e-01  3.24e-01  3.38e-14  4.80e+03 \n",
      " 12300| 5.83e-04  7.37e-02  1.10e-01  4.25e-01  2.41e-01  1.62e-14  4.84e+03 \n",
      " 12400| 6.29e-04  1.35e-01  1.24e-01  5.24e-01  2.99e-01  3.76e-14  4.88e+03 \n",
      " 12500| 2.48e-04  6.47e-02  5.71e-03  4.77e-01  4.66e-01  1.42e-14  4.92e+03 \n",
      " 12600| 3.41e-04  6.16e-02  4.02e-02  4.90e-01  5.73e-01  5.74e-14  4.95e+03 \n",
      " 12700| 9.55e-04  9.13e-02  3.50e-02  3.87e-01  3.27e-01  8.03e-15  4.99e+03 \n",
      " 12800| 7.40e-04  1.08e-01  5.88e-02  4.04e-01  5.17e-01  5.99e-16  5.03e+03 \n",
      " 12900| 3.92e-04  6.50e-02  3.26e-02  4.84e-01  4.22e-01  6.21e-14  5.07e+03 \n",
      " 13000| 1.78e-03  1.04e-01  2.01e-02  2.97e-01  2.66e-01  6.73e-14  5.11e+03 \n",
      " 13100| 5.09e-04  1.09e-01  4.43e-02  5.13e-01  6.07e-01  1.77e-14  5.15e+03 \n",
      " 13200| 9.04e-04  4.34e-02  7.48e-02  3.80e-01  2.58e-01  3.51e-14  5.18e+03 \n",
      " 13300| 3.39e-04  6.61e-02  3.41e-03  4.43e-01  4.37e-01  2.10e-14  5.22e+03 \n",
      " 13400| 9.02e-04  1.09e-01  8.16e-02  5.57e-01  7.45e-01  1.88e-14  5.26e+03 \n",
      " 13500| 2.97e-04  5.04e-02  2.27e-02  4.43e-01  4.86e-01  1.63e-14  5.30e+03 \n",
      " 13600| 5.40e-04  8.13e-02  5.27e-02  5.15e-01  6.28e-01  1.42e-14  5.33e+03 \n",
      " 13700| 6.20e-04  6.88e-02  1.89e-02  4.05e-01  4.39e-01  2.74e-14  5.37e+03 \n",
      " 13800| 4.73e-04  6.88e-02  9.58e-02  4.23e-01  2.61e-01  3.83e-14  5.42e+03 \n",
      " 13900| 1.25e-03  1.28e-01  6.10e-03  5.89e-01  6.02e-01  2.52e-14  5.46e+03 \n",
      " 14000| 1.79e-04  7.01e-02  6.74e-02  4.63e-01  6.02e-01  7.70e-14  5.50e+03 \n",
      " 14100| 6.77e-04  9.64e-02  1.05e-01  5.19e-01  7.59e-01  5.22e-15  5.54e+03 \n",
      " 14200| 1.82e-03  3.08e-01  7.68e-02  6.18e-01  8.04e-01  2.48e-15  5.57e+03 \n",
      " 14300| 3.27e-03  3.08e-01  1.96e-01  1.50e-01  4.68e-01  2.71e-14  5.61e+03 \n",
      " 14400| 3.18e-04  4.63e-02  6.19e-03  4.29e-01  4.40e-01  3.71e-14  5.65e+03 \n",
      " 14500| 2.65e-04  7.02e-02  4.81e-02  4.48e-01  3.61e-01  2.43e-14  5.69e+03 \n",
      " 14600| 3.17e-04  4.05e-02  1.20e-02  4.88e-01  4.64e-01  1.18e-14  5.73e+03 \n",
      " 14700| 3.80e-04  5.43e-02  2.28e-02  4.84e-01  5.30e-01  2.32e-14  5.77e+03 \n",
      " 14800| 3.22e-04  7.22e-02  4.16e-02  4.80e-01  4.01e-01  4.59e-14  5.81e+03 \n",
      " 14900| 5.61e-04  8.14e-02  9.73e-02  4.10e-01  2.48e-01  3.42e-14  5.85e+03 \n",
      " 15000| 5.27e-04  1.52e-01  1.10e-01  4.19e-01  6.47e-01  7.68e-14  5.88e+03 \n",
      " 15100| 9.38e-04  1.26e-01  2.22e-03  5.26e-01  5.30e-01  3.42e-14  5.92e+03 \n",
      " 15200| 2.36e-04  4.38e-02  2.91e-03  4.39e-01  4.34e-01  3.82e-14  5.96e+03 \n",
      " 15300| 2.58e-04  5.36e-02  2.02e-02  4.52e-01  4.91e-01  2.51e-15  6.00e+03 \n",
      " 15400| 1.77e-03  2.06e-01  6.06e-02  2.81e-01  3.82e-01  5.96e-14  6.04e+03 \n",
      " 15500| 3.44e-04  7.97e-02  6.84e-02  4.42e-01  5.80e-01  3.96e-14  6.08e+03 \n",
      " 15600| 2.83e-04  6.25e-02  1.30e-02  4.60e-01  4.85e-01  5.14e-15  6.13e+03 \n",
      " 15700| 4.21e-04  4.39e-02  5.30e-02  4.09e-01  3.18e-01  7.04e-14  6.16e+03 \n",
      " 15800| 3.11e-04  4.25e-02  1.42e-02  4.78e-01  5.06e-01  3.55e-14  6.20e+03 \n",
      " 15900| 2.73e-04  6.52e-02  4.48e-02  4.28e-01  3.48e-01  3.46e-15  6.24e+03 \n",
      " 16000| 1.90e-04  3.14e-02  1.61e-02  4.41e-01  4.11e-01  1.65e-14  6.28e+03 \n",
      " 16100| 1.61e-04  7.30e-02  4.62e-02  4.42e-01  5.33e-01  3.46e-14  6.33e+03 \n",
      " 16200| 2.41e-04  4.85e-02  5.10e-02  4.28e-01  3.38e-01  1.86e-14  6.36e+03 \n",
      " 16300| 3.39e-04  6.25e-02  1.90e-02  4.41e-01  4.77e-01  1.99e-14  6.41e+03 \n",
      " 16400| 1.56e-03  3.22e-01  1.18e-01  3.21e-01  5.41e-01  7.55e-14  6.44e+03 \n",
      " 16500| 5.53e-04  5.37e-02  8.49e-02  5.04e-01  6.90e-01  6.29e-14  6.48e+03 \n",
      " 16600| 1.08e-04  3.93e-02  3.21e-02  4.51e-01  5.14e-01  8.55e-16  6.52e+03 \n",
      " 16700| 3.99e-04  1.24e-01  8.93e-02  4.44e-01  6.29e-01  2.32e-14  6.56e+03 \n",
      " 16800| 1.39e-04  9.06e-02  6.25e-02  4.50e-01  5.77e-01  3.25e-14  6.60e+03 \n",
      " 16900| 8.14e-04  4.87e-02  7.54e-02  3.66e-01  2.45e-01  3.84e-14  6.64e+03 \n",
      " 17000| 1.70e-03  1.04e-01  1.10e-01  6.17e-01  8.93e-01  7.05e-15  6.68e+03 \n",
      " 17100| 1.52e-04  3.82e-02  3.35e-02  4.54e-01  3.93e-01  9.02e-15  6.72e+03 \n",
      " 17200| 2.03e-04  4.49e-02  8.06e-03  4.54e-01  4.38e-01  1.20e-14  6.76e+03 \n",
      " 17300| 1.61e-04  4.32e-02  1.75e-02  4.54e-01  4.88e-01  7.86e-14  6.80e+03 \n",
      " 17400| 1.88e-04  4.56e-02  1.98e-02  4.60e-01  4.99e-01  2.07e-14  6.85e+03 \n",
      " 17500| 2.05e-04  5.85e-02  5.01e-03  4.62e-01  4.72e-01  5.62e-15  6.89e+03 \n",
      " 17600| 4.67e-04  6.13e-02  7.65e-02  3.99e-01  2.71e-01  4.83e-14  6.93e+03 \n",
      " 17700| 2.10e-04  5.56e-02  1.81e-02  4.43e-01  4.78e-01  7.14e-14  6.97e+03 \n",
      " 17800| 5.79e-04  4.14e-02  4.75e-02  5.03e-01  6.03e-01  3.32e-14  7.00e+03 \n",
      " 17900| 1.30e-04  5.76e-02  3.32e-02  4.43e-01  3.82e-01  3.34e-14  7.04e+03 \n",
      " 18000| 3.68e-04  8.04e-02  5.12e-02  4.18e-01  5.17e-01  6.00e-14  7.08e+03 \n",
      " 18100| 3.86e-04  3.23e-02  2.36e-02  4.82e-01  5.29e-01  4.01e-14  7.12e+03 \n",
      " 18200| 1.02e-04  2.31e-02  1.51e-03  4.51e-01  4.54e-01  2.73e-14  7.16e+03 \n",
      " 18300| 1.70e-04  5.88e-02  6.71e-02  4.35e-01  3.17e-01  1.38e-14  7.20e+03 \n",
      " 18400| 1.66e-04  5.81e-02  3.37e-02  4.54e-01  3.92e-01  6.30e-14  7.24e+03 \n",
      " 18500| 5.01e-04  7.09e-02  2.18e-02  4.00e-01  3.62e-01  4.54e-14  7.28e+03 \n",
      " 18600| 1.63e-04  2.51e-02  1.76e-02  4.57e-01  4.91e-01  9.58e-14  7.32e+03 \n",
      " 18700| 1.29e-04  3.75e-02  2.37e-02  4.54e-01  4.10e-01  3.18e-14  7.36e+03 \n",
      " 18800| 6.38e-04  5.34e-02  6.27e-02  5.09e-01  6.43e-01  2.77e-14  7.40e+03 \n",
      " 18900| 1.89e-04  2.25e-02  4.23e-04  4.61e-01  4.62e-01  2.40e-14  7.44e+03 \n",
      " 19000| 1.88e-04  5.14e-02  4.31e-02  4.41e-01  5.26e-01  2.84e-14  7.48e+03 \n",
      " 19100| 1.86e-04  4.38e-02  3.53e-03  4.61e-01  4.54e-01  3.12e-14  7.52e+03 \n",
      " 19200| 3.00e-04  2.74e-02  1.39e-03  4.72e-01  4.74e-01  1.32e-14  7.56e+03 \n",
      " 19300| 3.66e-04  3.22e-02  6.66e-03  4.07e-01  4.19e-01  7.31e-14  7.60e+03 \n",
      " 19400| 4.48e-04  2.85e-02  2.82e-02  4.88e-01  5.46e-01  3.35e-14  7.64e+03 \n",
      " 19500| 3.31e-04  4.36e-02  2.00e-02  4.69e-01  4.31e-01  3.36e-14  7.68e+03 \n",
      " 19600| 1.29e-03  1.17e-01  1.12e-01  3.14e-01  1.50e-01  1.66e-14  7.72e+03 \n",
      " 19700| 1.10e-04  1.89e-02  3.62e-03  4.36e-01  4.29e-01  6.94e-14  7.76e+03 \n",
      " 19800| 2.06e-04  3.72e-02  2.89e-05  4.53e-01  4.53e-01  2.50e-14  7.80e+03 \n",
      " 19900| 1.01e-03  2.03e-01  9.61e-02  3.51e-01  2.02e-01  6.49e-14  7.84e+03 \n",
      " 20000| 2.48e-04  6.74e-02  3.31e-02  4.28e-01  4.92e-01  5.00e-14  7.88e+03 \n",
      " 20100| 1.97e-04  3.49e-02  2.05e-02  4.24e-01  3.87e-01  3.71e-14  7.92e+03 \n"
     ]
    },
    {
     "name": "stdout",
     "output_type": "stream",
     "text": [
      " 20200| 1.60e-04  3.08e-02  3.46e-02  4.52e-01  5.21e-01  5.40e-14  7.96e+03 \n",
      " 20300| 2.77e-04  3.57e-02  1.54e-02  4.19e-01  3.91e-01  5.14e-14  8.00e+03 \n",
      " 20400| 1.37e-04  6.61e-02  3.30e-02  4.40e-01  3.80e-01  2.60e-14  8.04e+03 \n",
      " 20500| 7.09e-05  2.33e-02  9.73e-04  4.41e-01  4.39e-01  3.03e-14  8.08e+03 \n",
      " 20600| 1.46e-04  2.35e-02  5.15e-03  4.55e-01  4.45e-01  7.00e-14  8.12e+03 \n",
      " 20700| 1.15e-04  1.96e-02  1.82e-03  4.52e-01  4.48e-01  3.15e-14  8.16e+03 \n",
      " 20800| 1.95e-03  9.83e-02  6.85e-02  2.47e-01  1.51e-01  2.99e-14  8.20e+03 \n",
      " 20900| 1.08e-04  2.13e-02  2.81e-02  4.33e-01  3.82e-01  7.15e-15  8.24e+03 \n",
      " 21000| 3.61e-04  2.48e-02  2.69e-02  4.78e-01  5.32e-01  4.76e-14  8.28e+03 \n",
      " 21100| 2.55e-04  3.13e-02  2.04e-02  4.67e-01  5.07e-01  3.36e-14  8.32e+03 \n",
      " 21200| 7.01e-05  2.25e-02  2.49e-02  4.39e-01  3.93e-01  2.64e-15  8.35e+03 \n",
      " 21300| 4.23e-04  4.84e-02  3.80e-02  4.84e-01  5.62e-01  1.55e-14  8.39e+03 \n",
      " 21400| 6.80e-05  1.50e-02  3.71e-03  4.47e-01  4.40e-01  2.33e-14  8.43e+03 \n",
      " 21500| 8.53e-05  2.30e-02  1.64e-02  4.35e-01  4.66e-01  3.15e-14  8.47e+03 \n",
      " 21600| 5.64e-04  5.14e-02  6.44e-02  4.97e-01  6.35e-01  2.66e-14  8.51e+03 \n",
      " 21700| 1.02e-04  1.16e-02  1.01e-02  4.51e-01  4.70e-01  6.81e-14  8.55e+03 \n",
      " 21800| 1.83e-04  1.36e-02  1.90e-02  4.24e-01  3.89e-01  1.33e-14  8.59e+03 \n",
      " 21900| 2.65e-04  4.00e-02  2.46e-03  4.16e-01  4.11e-01  5.35e-14  8.63e+03 \n",
      " 22000| 3.43e-04  5.05e-02  5.96e-02  4.75e-01  5.99e-01  1.80e-14  8.67e+03 \n",
      " 22100| 2.59e-04  1.99e-02  8.81e-03  4.67e-01  4.50e-01  2.99e-14  8.71e+03 \n",
      " 22200| 1.54e-04  6.70e-02  5.97e-02  4.53e-01  5.74e-01  7.03e-14  8.74e+03 \n",
      " 22300| 4.61e-05  1.80e-02  8.87e-03  4.43e-01  4.27e-01  1.53e-15  8.78e+03 \n",
      " 22400| 8.91e-05  2.98e-02  2.52e-02  4.46e-01  4.95e-01  6.67e-16  8.82e+03 \n",
      " 22500| 1.46e-04  3.50e-02  2.51e-02  4.28e-01  4.76e-01  9.71e-15  8.86e+03 \n",
      " 22600| 5.85e-05  1.64e-02  4.40e-04  4.46e-01  4.47e-01  4.80e-14  8.90e+03 \n",
      " 22700| 1.50e-04  1.75e-02  1.25e-02  4.56e-01  4.80e-01  8.49e-14  8.94e+03 \n",
      " 22800| 9.48e-05  2.21e-02  7.56e-04  4.48e-01  4.49e-01  2.51e-14  8.98e+03 \n",
      " 22900| 4.45e-05  1.58e-02  1.51e-02  4.43e-01  4.15e-01  7.35e-14  9.02e+03 \n",
      " 23000| 1.46e-04  3.01e-02  2.04e-02  4.29e-01  3.92e-01  2.50e-14  9.06e+03 \n",
      " 23100| 3.32e-05  2.02e-02  3.67e-03  4.42e-01  4.35e-01  9.16e-14  9.10e+03 \n",
      " 23200| 1.45e-04  2.32e-02  1.26e-02  4.53e-01  4.78e-01  1.46e-14  9.14e+03 \n",
      " 23300| 1.55e-04  1.61e-02  1.77e-02  4.27e-01  3.95e-01  5.25e-14  9.18e+03 \n",
      " 23400| 4.49e-05  1.54e-02  2.01e-03  4.38e-01  4.42e-01  1.27e-14  9.22e+03 \n",
      " 23500| 1.66e-04  1.60e-02  3.31e-03  4.56e-01  4.50e-01  5.33e-15  9.26e+03 \n",
      " 23600| 5.83e-05  2.03e-02  8.95e-03  4.41e-01  4.58e-01  1.85e-14  9.30e+03 \n",
      " 23700| 9.45e-05  1.73e-02  5.50e-03  4.47e-01  4.57e-01  1.97e-14  9.34e+03 \n",
      " 23800| 2.12e-04  1.85e-02  4.84e-03  4.21e-01  4.12e-01  1.20e-14  9.38e+03 \n",
      " 23900| 7.08e-05  1.09e-02  1.00e-02  4.35e-01  4.54e-01  1.37e-15  9.42e+03 \n",
      " 24000| 5.83e-05  1.51e-02  7.02e-03  4.40e-01  4.53e-01  2.17e-14  9.46e+03 \n",
      " 24100| 2.67e-04  1.73e-02  7.69e-03  4.15e-01  4.01e-01  1.64e-14  9.49e+03 \n",
      " 24200| 2.31e-04  2.51e-02  1.21e-02  4.23e-01  4.45e-01  1.72e-14  9.53e+03 \n",
      " 24300| 1.03e-04  2.38e-02  3.39e-02  4.34e-01  3.73e-01  1.89e-14  9.58e+03 \n",
      " 24400| 1.66e-04  1.94e-02  2.49e-02  4.57e-01  5.06e-01  2.28e-14  9.62e+03 \n",
      " 24500| 4.78e-05  1.04e-02  2.30e-03  4.40e-01  4.44e-01  2.60e-14  9.66e+03 \n",
      " 24600| 7.82e-05  1.55e-02  3.76e-03  4.48e-01  4.55e-01  1.18e-14  9.70e+03 \n",
      " 24700| 4.08e-04  6.84e-02  4.56e-02  4.13e-01  5.01e-01  5.40e-14  9.74e+03 \n",
      " 24800| 3.95e-05  1.34e-02  7.08e-03  4.42e-01  4.29e-01  9.52e-15  9.78e+03 \n",
      " 24900| 6.81e-05  1.33e-02  1.71e-02  4.37e-01  4.05e-01  2.59e-14  9.82e+03 \n",
      " 25000| 1.24e-04  8.29e-03  1.21e-02  4.53e-01  4.76e-01  3.10e-15  9.86e+03 \n",
      " 25100| 1.54e-04  1.28e-02  8.99e-03  4.56e-01  4.73e-01  7.87e-15  9.90e+03 \n",
      " 25200| 5.11e-05  1.40e-02  4.46e-03  4.44e-01  4.35e-01  2.50e-14  9.93e+03 \n",
      " 25300| 1.38e-04  7.64e-03  8.03e-03  4.55e-01  4.71e-01  2.15e-14  9.97e+03 \n",
      " 25400| 1.18e-04  1.86e-02  1.26e-02  4.52e-01  4.76e-01  5.56e-15  1.00e+04 \n",
      " 25500| 1.00e-04  8.98e-03  8.53e-03  4.51e-01  4.67e-01  2.42e-14  1.00e+04 \n",
      " 25600| 1.12e-04  8.01e-03  3.43e-03  4.52e-01  4.59e-01  2.83e-14  1.01e+04 \n",
      " 25700| 6.04e-05  1.66e-02  1.25e-02  4.36e-01  4.13e-01  8.75e-15  1.01e+04 \n",
      " 25800| 4.82e-05  1.28e-02  5.44e-03  4.45e-01  4.56e-01  2.86e-14  1.02e+04 \n",
      " 25900| 3.38e-05  7.70e-03  1.56e-03  4.43e-01  4.46e-01  5.01e-15  1.02e+04 \n",
      " 26000| 7.19e-05  8.89e-03  1.07e-02  4.34e-01  4.14e-01  4.99e-14  1.02e+04 \n",
      " 26100| 9.93e-05  2.20e-02  8.60e-03  4.35e-01  4.19e-01  2.47e-14  1.03e+04 \n",
      " 26200| 5.62e-05  9.90e-03  2.21e-03  4.46e-01  4.50e-01  2.17e-14  1.03e+04 \n",
      " 26300| 1.57e-04  1.01e-02  5.09e-03  4.26e-01  4.16e-01  3.49e-15  1.04e+04 \n",
      " 26400| 2.20e-05  5.85e-03  2.66e-03  4.40e-01  4.35e-01  1.25e-14  1.04e+04 \n",
      " 26500| 3.20e-05  5.24e-03  2.01e-03  4.39e-01  4.35e-01  5.42e-14  1.04e+04 \n",
      " 26600| 7.91e-05  1.04e-02  1.17e-02  4.49e-01  4.71e-01  1.88e-14  1.05e+04 \n",
      " 26700| 3.94e-05  1.11e-02  1.07e-03  4.44e-01  4.46e-01  4.35e-14  1.05e+04 \n",
      " 26800| 1.05e-04  7.77e-03  2.47e-03  4.51e-01  4.56e-01  9.76e-15  1.06e+04 \n",
      " 26900| 5.47e-04  1.40e-01  7.08e-02  4.74e-01  6.22e-01  2.83e-14  1.06e+04 \n",
      " 27000| 5.96e-05  6.03e-03  3.18e-03  4.36e-01  4.30e-01  1.60e-14  1.06e+04 \n",
      " 27100| 2.21e-04  1.60e-02  2.12e-02  4.19e-01  3.81e-01  1.47e-14  1.07e+04 \n",
      " 27200| 4.72e-05  1.09e-02  8.42e-03  4.45e-01  4.29e-01  1.29e-15  1.07e+04 \n",
      " 27300| 7.57e-05  1.06e-02  1.32e-02  4.34e-01  4.10e-01  5.17e-15  1.08e+04 \n",
      " 27400| 2.71e-05  6.15e-03  7.54e-03  4.40e-01  4.26e-01  4.63e-15  1.08e+04 \n",
      " 27500| 1.05e-03  2.64e-01  4.29e-02  5.04e-01  4.21e-01  5.60e-14  1.08e+04 \n",
      " 27600| 5.60e-05  9.72e-03  1.84e-04  4.46e-01  4.47e-01  4.67e-15  1.09e+04 \n",
      " 27700| 2.56e-05  6.48e-03  2.87e-03  4.43e-01  4.48e-01  2.25e-14  1.09e+04 \n",
      " 27800| 1.99e-04  1.83e-02  1.72e-02  4.61e-01  4.95e-01  4.14e-14  1.09e+04 \n",
      " 27900| 1.55e-04  4.57e-02  2.87e-02  4.51e-01  3.98e-01  3.65e-14  1.10e+04 \n",
      " 28000| 3.86e-05  6.92e-03  3.00e-03  4.44e-01  4.50e-01  1.76e-14  1.10e+04 \n",
      " 28100| 6.30e-05  1.92e-02  1.10e-02  4.46e-01  4.67e-01  2.55e-14  1.11e+04 \n",
      " 28200| 9.54e-05  1.21e-02  1.81e-03  4.50e-01  4.54e-01  4.31e-14  1.11e+04 \n",
      " 28300| 1.28e-04  3.20e-02  7.37e-03  4.42e-01  4.28e-01  5.24e-14  1.11e+04 \n",
      " 28400| 4.45e-05  1.09e-02  9.17e-03  4.39e-01  4.21e-01  4.74e-14  1.12e+04 \n",
      " 28500| 4.05e-05  4.71e-03  4.13e-03  4.45e-01  4.52e-01  4.50e-14  1.12e+04 \n",
      " 28600| 3.97e-05  2.24e-03  3.07e-03  4.45e-01  4.51e-01  1.01e-14  1.13e+04 \n",
      " 28700| 3.63e-05  3.74e-03  7.51e-04  4.44e-01  4.46e-01  1.38e-14  1.13e+04 \n",
      " 28800| 1.17e-05  2.81e-03  7.32e-04  4.42e-01  4.43e-01  2.92e-14  1.13e+04 \n",
      " 28900| 3.34e-05  3.23e-03  1.74e-03  4.44e-01  4.48e-01  4.80e-14  1.14e+04 \n",
      " 29000| 2.34e-05  3.73e-03  7.71e-04  4.43e-01  4.42e-01  2.71e-14  1.14e+04 \n",
      " 29100| 1.85e-05  6.89e-03  2.87e-03  4.41e-01  4.35e-01  1.39e-14  1.14e+04 \n",
      " 29200| 1.35e-05  2.77e-03  1.28e-03  4.41e-01  4.43e-01  5.63e-15  1.15e+04 \n",
      " 29300| 1.56e-05  4.70e-03  3.44e-04  4.42e-01  4.43e-01  2.51e-14  1.15e+04 \n",
      " 29400| 1.32e-05  3.99e-03  2.14e-03  4.42e-01  4.46e-01  5.06e-15  1.16e+04 \n",
      " 29500| 2.07e-05  2.58e-03  2.80e-03  4.39e-01  4.34e-01  2.02e-14  1.16e+04 \n",
      " 29600| 8.89e-05  1.75e-02  1.62e-02  4.49e-01  4.80e-01  3.82e-14  1.16e+04 \n",
      " 29700| 1.62e-05  4.40e-03  2.23e-03  4.40e-01  4.36e-01  2.97e-14  1.17e+04 \n",
      " 29800| 9.37e-05  4.69e-03  3.52e-03  4.32e-01  4.25e-01  2.72e-14  1.17e+04 \n",
      " 29900| 1.94e-04  1.88e-02  2.17e-03  4.58e-01  4.63e-01  2.52e-14  1.18e+04 \n",
      " 30000| 2.19e-05  4.16e-03  4.04e-03  4.43e-01  4.51e-01  2.33e-14  1.18e+04 \n",
      " 30100| 1.62e-05  2.84e-03  3.98e-04  4.40e-01  4.39e-01  1.98e-14  1.18e+04 \n",
      " 30200| 3.91e-05  4.69e-03  7.30e-03  4.45e-01  4.59e-01  2.70e-14  1.19e+04 \n",
      " 30300| 1.03e-04  1.16e-02  2.19e-03  4.32e-01  4.36e-01  6.56e-15  1.19e+04 \n",
      " 30400| 5.38e-05  9.71e-03  1.07e-02  4.45e-01  4.65e-01  2.54e-14  1.20e+04 \n",
      " 30500| 8.36e-06  3.12e-03  3.27e-04  4.41e-01  4.41e-01  8.97e-15  1.20e+04 \n",
      " 30600| 7.06e-06  8.59e-04  8.64e-04  4.40e-01  4.39e-01  1.58e-14  1.20e+04 \n",
      " 30700| 1.20e-05  2.74e-03  4.41e-04  4.42e-01  4.43e-01  1.35e-14  1.21e+04 \n"
     ]
    },
    {
     "name": "stdout",
     "output_type": "stream",
     "text": [
      " 30800| 6.39e-05  4.38e-03  4.13e-03  4.47e-01  4.55e-01  5.11e-15  1.21e+04 \n",
      " 30900| 1.85e-05  5.17e-03  2.55e-03  4.42e-01  4.47e-01  2.40e-14  1.22e+04 \n",
      " 31000| 6.38e-05  7.52e-03  8.16e-04  4.35e-01  4.33e-01  1.69e-14  1.22e+04 \n",
      " 31100| 9.36e-06  1.49e-03  1.13e-03  4.42e-01  4.44e-01  4.71e-14  1.22e+04 \n",
      " 31200| 8.84e-06  2.57e-03  1.08e-03  4.41e-01  4.43e-01  4.68e-14  1.23e+04 \n",
      " 31300| 1.79e-05  1.13e-03  7.43e-04  4.43e-01  4.44e-01  2.08e-14  1.23e+04 \n",
      " 31400| 7.38e-06  9.86e-04  7.37e-05  4.42e-01  4.42e-01  5.74e-14  1.24e+04 \n",
      " 31500| 2.07e-05  2.29e-03  5.69e-04  4.43e-01  4.41e-01  5.05e-14  1.24e+04 \n",
      " 31600| 8.70e-06  2.19e-03  1.07e-03  4.41e-01  4.43e-01  7.41e-15  1.24e+04 \n",
      " 31700| 5.07e-05  2.08e-02  4.38e-03  4.39e-01  4.47e-01  8.24e-15  1.25e+04 \n",
      " 31800| 9.11e-06  9.45e-04  4.06e-04  4.40e-01  4.39e-01  2.71e-14  1.25e+04 \n",
      " 31900| 2.77e-05  7.65e-03  1.66e-03  4.39e-01  4.36e-01  3.67e-14  1.25e+04 \n",
      " 32000| 6.76e-06  1.90e-03  1.60e-03  4.41e-01  4.44e-01  1.27e-14  1.26e+04 \n",
      " 32100| 1.32e-05  3.35e-03  1.33e-03  4.42e-01  4.44e-01  4.82e-14  1.26e+04 \n",
      " 32200| 5.62e-06  1.41e-03  8.08e-04  4.41e-01  4.42e-01  2.12e-14  1.27e+04 \n",
      " 32300| 3.96e-06  8.71e-04  3.92e-04  4.41e-01  4.40e-01  1.22e-14  1.27e+04 \n",
      " 32400| 2.32e-06  3.22e-04  1.58e-05  4.41e-01  4.41e-01  1.36e-14  1.27e+04 \n",
      " 32500| 4.34e-06  4.45e-04  3.69e-05  4.41e-01  4.41e-01  1.46e-14  1.28e+04 \n",
      " 32600| 1.29e-05  2.04e-03  1.35e-03  4.42e-01  4.45e-01  9.25e-16  1.28e+04 \n",
      " 32700| 2.01e-05  2.38e-03  2.65e-03  4.39e-01  4.34e-01  2.57e-14  1.29e+04 \n",
      " 32800| 1.02e-05  1.23e-03  4.46e-04  4.42e-01  4.43e-01  1.28e-14  1.29e+04 \n",
      " 32900| 7.54e-06  9.53e-04  6.77e-04  4.42e-01  4.43e-01  5.53e-15  1.29e+04 \n",
      " 33000| 4.57e-06  7.94e-04  8.06e-04  4.41e-01  4.43e-01  1.99e-14  1.30e+04 \n",
      " 33100| 1.90e-06  5.54e-04  7.35e-04  4.41e-01  4.39e-01  4.67e-14  1.30e+04 \n",
      " 33200| 2.02e-06  6.48e-04  1.55e-04  4.41e-01  4.41e-01  2.32e-14  1.30e+04 \n",
      " 33300| 4.01e-06  6.29e-04  4.26e-05  4.41e-01  4.41e-01  6.57e-15  1.31e+04 \n",
      " 33400| 1.80e-06  2.83e-04  9.75e-05  4.41e-01  4.41e-01  2.28e-14  1.31e+04 \n",
      " 33500| 3.85e-06  4.81e-04  6.75e-04  4.41e-01  4.39e-01  2.67e-14  1.32e+04 \n",
      " 33600| 1.42e-06  5.13e-04  2.16e-04  4.41e-01  4.41e-01  1.23e-14  1.32e+04 \n",
      " 33700| 1.15e-06  2.97e-04  6.55e-05  4.41e-01  4.41e-01  2.03e-14  1.32e+04 \n",
      " 33800| 2.37e-06  1.35e-03  5.27e-04  4.41e-01  4.40e-01  2.36e-14  1.33e+04 \n",
      " 33900| 1.82e-04  4.81e-02  2.16e-02  4.26e-01  3.87e-01  9.79e-15  1.33e+04 \n",
      " 34000| 1.16e-05  4.34e-03  1.55e-03  4.41e-01  4.44e-01  6.38e-15  1.34e+04 \n",
      " 34100| 4.91e-06  5.16e-04  3.77e-04  4.41e-01  4.42e-01  1.78e-14  1.34e+04 \n",
      " 34200| 1.59e-06  1.78e-04  1.33e-05  4.41e-01  4.41e-01  1.26e-14  1.34e+04 \n",
      " 34300| 1.77e-06  1.70e-04  1.21e-04  4.41e-01  4.41e-01  2.77e-14  1.35e+04 \n",
      " 34400| 4.51e-06  5.74e-04  2.07e-04  4.41e-01  4.42e-01  8.63e-15  1.35e+04 \n",
      " 34500| 2.53e-06  2.75e-04  2.47e-04  4.41e-01  4.42e-01  1.28e-14  1.36e+04 \n",
      " 34600| 3.27e-06  2.98e-04  8.55e-06  4.41e-01  4.41e-01  1.19e-14  1.36e+04 \n",
      " 34700| 3.07e-06  1.05e-03  2.74e-04  4.41e-01  4.41e-01  1.15e-14  1.36e+04 \n",
      " 34800| 1.20e-06  3.71e-04  3.53e-04  4.41e-01  4.42e-01  1.34e-14  1.37e+04 \n",
      " 34900| 6.81e-07  1.59e-04  1.30e-05  4.41e-01  4.41e-01  5.03e-14  1.37e+04 \n",
      " 35000| 5.67e-05  5.85e-03  2.21e-04  4.46e-01  4.47e-01  1.28e-14  1.38e+04 \n",
      " 35100| 1.54e-06  4.17e-04  9.91e-05  4.41e-01  4.41e-01  1.65e-14  1.38e+04 \n",
      " 35200| 3.43e-06  3.30e-04  2.18e-04  4.41e-01  4.42e-01  5.03e-15  1.38e+04 \n",
      " 35300| 1.20e-06  5.62e-04  4.47e-04  4.41e-01  4.42e-01  2.65e-14  1.39e+04 \n",
      " 35380| 6.25e-07  9.05e-05  2.36e-05  4.41e-01  4.41e-01  4.66e-14  1.39e+04 \n",
      "----------------------------------------------------------------------------\n",
      "Status: Solved\n",
      "Timing: Solve time: 1.39e+04s\n",
      "\tLin-sys: nnz in L factor: 91681652, avg solve time: 3.74e-01s\n",
      "\tCones: avg projection time: 6.14e-05s\n",
      "\tAcceleration: avg step time: 1.71e-02s\n",
      "----------------------------------------------------------------------------\n",
      "Error metrics:\n",
      "dist(s, K) = 8.8818e-16, dist(y, K*) = 1.3878e-17, s'y/|s||y| = 4.5623e-20\n",
      "primal res: |Ax + s - b|_2 / (1 + |b|_2) = 6.2548e-07\n",
      "dual res:   |A'y + c|_2 / (1 + |c|_2) = 9.0512e-05\n",
      "rel gap:    |c'x + b'y| / (1 + |c'x| + |b'y|) = 2.3615e-05\n",
      "----------------------------------------------------------------------------\n",
      "c'x = 0.4410, -b'y = 0.4411\n",
      "============================================================================\n"
     ]
    }
   ],
   "source": [
    "TFLasso = LaplacianRegression('Lasso')\n",
    "TFLasso.fit(X_train, y_train, X_test, y_test, alpha_list, threshold_list, L=L, \n",
    "            max_features=max_features, solver=solver, solver_params=solver_params,\n",
    "            force_features=True, verbose=True, n_jobs=15)"
   ]
  },
  {
   "cell_type": "code",
   "execution_count": 71,
   "metadata": {},
   "outputs": [
    {
     "data": {
      "image/png": "[encoded data removed]",
      "text/plain": [
       "<Figure size 432x288 with 2 Axes>"
      ]
     },
     "metadata": {
      "needs_background": "light"
     },
     "output_type": "display_data"
    }
   ],
   "source": [
    "TFLasso.plotgridsearch()"
   ]
  },
  {
   "cell_type": "code",
   "execution_count": 72,
   "metadata": {},
   "outputs": [
    {
     "name": "stdout",
     "output_type": "stream",
     "text": [
      "Test MSE :  0.8370549293445585\n"
     ]
    }
   ],
   "source": [
    "print('Test MSE : ' ,TFLasso.predict(X_test, y_test))"
   ]
  },
  {
   "cell_type": "code",
   "execution_count": 73,
   "metadata": {},
   "outputs": [
    {
     "data": {
      "image/png": "[encoded data removed]",
      "text/plain": [
       "<Figure size 432x288 with 1 Axes>"
      ]
     },
     "metadata": {},
     "output_type": "display_data"
    }
   ],
   "source": [
    "getTranslatedNodes(TFLasso.feats_, TFLasso.regr_.coef_, num_to_node, g,)"
   ]
  },
  {
   "cell_type": "markdown",
   "metadata": {},
   "source": [
    "# Nonconvex Penalties (MCP, SCAD)"
   ]
  },
  {
   "cell_type": "code",
   "execution_count": 26,
   "metadata": {},
   "outputs": [
    {
     "name": "stdout",
     "output_type": "stream",
     "text": [
      "Training is over.\n",
      "Test MSE :  0.7148551069665416\n"
     ]
    },
    {
     "data": {
      "image/png": "[encoded data removed]",
      "text/plain": [
       "<Figure size 432x288 with 1 Axes>"
      ]
     },
     "metadata": {},
     "output_type": "display_data"
    }
   ],
   "source": [
    "MCP = NonConvexRegression(penalty ='mcp')\n",
    "MCP.fit(X_train, y_train, X_train, y_train, X_test, y_test,\n",
    "        alpha_list, threshold_list, max_features = max_features, force_features = True)\n",
    "print('Test MSE : ' ,MCP.predict(X_test, y_test))\n",
    "getTranslatedNodes(MCP.feats_, MCP.regr_.coef_, num_to_node, g, save_location = '../figures/VanAllen_MCP.png')"
   ]
  },
  {
   "cell_type": "code",
   "execution_count": 27,
   "metadata": {},
   "outputs": [
    {
     "name": "stdout",
     "output_type": "stream",
     "text": [
      "Training is over.\n",
      "Test MSE :  0.7011718129973022\n"
     ]
    },
    {
     "data": {
      "image/png": "[encoded data removed]",
      "text/plain": [
       "<Figure size 432x288 with 1 Axes>"
      ]
     },
     "metadata": {},
     "output_type": "display_data"
    }
   ],
   "source": [
    "SCAD = NonConvexRegression(penalty = 'scad')\n",
    "SCAD.fit(X_train, y_train, X_train, y_train, X_test, y_test, \n",
    "         alpha_list, threshold_list, max_features = max_features, force_features = True)\n",
    "print('Test MSE : ' ,SCAD.predict(X_test, y_test))\n",
    "getTranslatedNodes(SCAD.feats_, SCAD.regr_.coef_, num_to_node, g, save_location = '../figures/VanAllen_SCAD.png')"
   ]
  },
  {
   "cell_type": "markdown",
   "metadata": {},
   "source": [
    "# NTF-Nonconvex Penalties (NTF-MCP, NTF-SCAD) "
   ]
  },
  {
   "cell_type": "code",
   "execution_count": 28,
   "metadata": {},
   "outputs": [],
   "source": [
    "X_train_new =  X_train.dot(L_norm_dagger)\n",
    "X_test_new = X_test.dot(L_norm_dagger) "
   ]
  },
  {
   "cell_type": "code",
   "execution_count": 29,
   "metadata": {},
   "outputs": [
    {
     "name": "stdout",
     "output_type": "stream",
     "text": [
      "Training is over.\n",
      "Test MSE :  0.7468270043060778\n"
     ]
    },
    {
     "data": {
      "image/png": "[encoded data removed]",
      "text/plain": [
       "<Figure size 432x288 with 1 Axes>"
      ]
     },
     "metadata": {},
     "output_type": "display_data"
    }
   ],
   "source": [
    "NTFMCP = NonConvexRegression(penalty ='mcp')\n",
    "NTFMCP.fit(X_train_new, y_train, X_train, y_train, X_test, y_test, \n",
    "           alpha_list, threshold_list, max_features = max_features, force_features = True)\n",
    "print('Test MSE : ' ,NTFMCP.predict(X_test, y_test))\n",
    "getTranslatedNodes(NTFMCP.feats_, NTFMCP.regr_.coef_, num_to_node, g, save_location = '../figures/VanAllen_NTF-MCP.png')"
   ]
  },
  {
   "cell_type": "code",
   "execution_count": 30,
   "metadata": {},
   "outputs": [
    {
     "name": "stdout",
     "output_type": "stream",
     "text": [
      "Training is over.\n",
      "Test MSE :  0.7015309640105734\n"
     ]
    },
    {
     "data": {
      "image/png": "[encoded data removed]",
      "text/plain": [
       "<Figure size 432x288 with 1 Axes>"
      ]
     },
     "metadata": {},
     "output_type": "display_data"
    }
   ],
   "source": [
    "NTFSCAD = NonConvexRegression(penalty ='scad')\n",
    "NTFSCAD.fit(X_train_new, y_train, X_train, y_train, X_test, y_test, \n",
    "            alpha_list, threshold_list, max_features = max_features, force_features = True)\n",
    "print('Test MSE : ' ,NTFSCAD.predict(X_test, y_test))\n",
    "getTranslatedNodes(NTFSCAD.feats_, NTFSCAD.regr_.coef_, num_to_node, g, save_location = '../figures/VanAllen_NTF-SCAD.png')"
   ]
  },
  {
   "cell_type": "markdown",
   "metadata": {},
   "source": [
    "# Shuffled Features"
   ]
  },
  {
   "cell_type": "code",
   "execution_count": 59,
   "metadata": {},
   "outputs": [],
   "source": [
    "# scramble feature order\n",
    "random.seed(42)\n",
    "feat_idx = list(range(X.shape[1]))\n",
    "random.shuffle(feat_idx)\n",
    "X_shuf = deepcopy(X[:,feat_idx])\n",
    "\n",
    "# split for training\n",
    "X_train, X_test, y_train, y_test = train_test_split(X_shuf, y, test_size=0.20, random_state=42)\n",
    "\n",
    "# scaling X\n",
    "scaler_X = StandardScaler()\n",
    "X_train = scaler_X.fit_transform(X_train)\n",
    "X_test = scaler_X.transform(X_test)\n",
    "\n",
    "# scalying y\n",
    "scaler_y = StandardScaler()\n",
    "y_train = scaler_y.fit_transform(y_train).reshape(-1)\n",
    "y_test = scaler_y.transform(y_test).reshape(-1)"
   ]
  },
  {
   "cell_type": "code",
   "execution_count": 63,
   "metadata": {},
   "outputs": [
    {
     "name": "stdout",
     "output_type": "stream",
     "text": [
      "Test MSE :  0.9743198065167753\n"
     ]
    },
    {
     "data": {
      "image/png": "[encoded data removed]",
      "text/plain": [
       "<Figure size 432x288 with 1 Axes>"
      ]
     },
     "metadata": {},
     "output_type": "display_data"
    }
   ],
   "source": [
    "ShuffledNTFLasso = LaplacianRegression('Lasso')\n",
    "ShuffledNTFLasso.fit(X_train, y_train, X_test, y_test, alpha_list, threshold_list, L=L_norm, \n",
    "                     max_features=max_features, solver=solver, solver_params=solver_params \n",
    "                     force_features=True, verbose=False, n_jobs=15)\n",
    "print('Test MSE : ' ,ShuffledNTFLasso.predict(X_test, y_test))\n",
    "getTranslatedNodes(ShuffledNTFLasso.feats_, ShuffledNTFLasso.regr_.coef_, num_to_node, g, save_location=None)"
   ]
  },
  {
   "cell_type": "code",
   "execution_count": 60,
   "metadata": {},
   "outputs": [
    {
     "name": "stdout",
     "output_type": "stream",
     "text": [
      "Training is over.\n",
      "Test MSE :  0.7148551069665416\n"
     ]
    },
    {
     "data": {
      "image/png": "[encoded data removed]",
      "text/plain": [
       "<Figure size 432x288 with 1 Axes>"
      ]
     },
     "metadata": {},
     "output_type": "display_data"
    }
   ],
   "source": [
    "X_train_new =  X_train.dot(L_norm_dagger)\n",
    "X_test_new = X_test.dot(L_norm_dagger) \n",
    "\n",
    "ShuffledNTFMCP = NonConvexRegression(penalty ='mcp')\n",
    "ShuffledNTFMCP.fit(X_train_new, y_train, X_train, y_train, X_test, y_test, \n",
    "                   alpha_list, threshold_list, max_features=max_features, force_features=True)\n",
    "print('Test MSE : ' ,ShuffledNTFMCP.predict(X_test, y_test))\n",
    "getTranslatedNodes(ShuffledNTFMCP.feats_, ShuffledNTFMCP.regr_.coef_, num_to_node, g, save_location=None)\n"
   ]
  },
  {
   "cell_type": "code",
   "execution_count": 61,
   "metadata": {},
   "outputs": [
    {
     "name": "stdout",
     "output_type": "stream",
     "text": [
      "Training is over.\n",
      "Test MSE :  0.7148551069665416\n"
     ]
    },
    {
     "data": {
      "image/png": "[encoded data removed]",
      "text/plain": [
       "<Figure size 432x288 with 1 Axes>"
      ]
     },
     "metadata": {},
     "output_type": "display_data"
    }
   ],
   "source": [
    "ShuffledNTFSCAD = NonConvexRegression(penalty ='scad')\n",
    "ShuffledNTFSCAD.fit(X_train_new, y_train, X_train, y_train, X_test, y_test,\n",
    "                    alpha_list, threshold_list, max_features=max_features, force_features=True)\n",
    "print('Test MSE : ' ,ShuffledNTFSCAD.predict(X_test, y_test))\n",
    "getTranslatedNodes(ShuffledNTFSCAD.feats_, ShuffledNTFSCAD.regr_.coef_, num_to_node, g, save_location=None)"
   ]
  },
  {
   "cell_type": "markdown",
   "metadata": {},
   "source": [
    "#### Elapsed time"
   ]
  },
  {
   "cell_type": "code",
   "execution_count": null,
   "metadata": {},
   "outputs": [],
   "source": [
    "print( 'Elapsed Time : ', time.time() - start_time)"
   ]
  }
 ],
 "metadata": {
  "kernelspec": {
   "display_name": "Python 3",
   "language": "python",
   "name": "python3"
  },
  "language_info": {
   "codemirror_mode": {
    "name": "ipython",
    "version": 3
   },
   "file_extension": ".py",
   "mimetype": "text/x-python",
   "name": "python",
   "nbconvert_exporter": "python",
   "pygments_lexer": "ipython3",
   "version": "3.7.4"
  }
 },
 "nbformat": 4,
 "nbformat_minor": 2
}
