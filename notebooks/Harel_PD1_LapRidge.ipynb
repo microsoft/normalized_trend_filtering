{
 "cells": [
  {
   "cell_type": "markdown",
   "metadata": {},
   "source": [
    "### \\*\\*\\*needs cleaning***"
   ]
  },
  {
   "cell_type": "code",
   "execution_count": 2,
   "metadata": {},
   "outputs": [],
   "source": [
    "import pandas as pd\n",
    "import numpy as np\n",
    "import sys \n",
    "import os\n",
    "import itertools\n",
    "import time\n",
    "import random\n",
    "\n",
    "#import utils\n",
    "sys.path.insert(0, '../utils/')\n",
    "from utils_preprocess_v3 import *\n",
    "from utils_modeling_v9 import *\n",
    "from utils_plots_v2 import *\n",
    "\n",
    "#sklearn\n",
    "from sklearn.metrics import mean_squared_error\n",
    "from sklearn.linear_model import LogisticRegression\n",
    "from sklearn.model_selection import train_test_split\n",
    "\n",
    "start_time = time.time()"
   ]
  },
  {
   "cell_type": "markdown",
   "metadata": {},
   "source": [
    "# load datasets"
   ]
  },
  {
   "cell_type": "code",
   "execution_count": 3,
   "metadata": {},
   "outputs": [],
   "source": [
    "data = pd.read_csv('../data/datasets_processed/Harel_PD1_data.csv', index_col='Unnamed: 0')\n",
    "response = pd.read_csv('../data/datasets_processed/Harel_PD1_response.csv', index_col='Unnamed: 0')\n",
    "interactome = pd.read_csv('../data/interactomes/inbiomap_processed.txt', sep = '\\t')"
   ]
  },
  {
   "cell_type": "markdown",
   "metadata": {},
   "source": [
    "# preprocess"
   ]
  },
  {
   "cell_type": "code",
   "execution_count": 4,
   "metadata": {},
   "outputs": [],
   "source": [
    "# get nodes from data and graph\n",
    "data_nodes = data['node'].tolist()\n",
    "interactome_nodes = list(set(np.concatenate((interactome['node1'], interactome['node2']))))\n",
    "\n",
    "# organize data\n",
    "organize = Preprocessing()\n",
    "save_location = '../data/reduced_interactomes/reduced_interactome_Harel_PD1.txt'\n",
    "organize.transform(data_nodes, interactome_nodes, interactome, data, save_location, load_graph = True)"
   ]
  },
  {
   "cell_type": "code",
   "execution_count": 5,
   "metadata": {},
   "outputs": [],
   "source": [
    "# extract info from preprocessing\n",
    "X = organize.sorted_X.T.values\n",
    "y = response.values.reshape(-1,1)\n",
    "L_norm = organize.L_norm\n",
    "L = organize.L\n",
    "\n",
    "g = organize.g\n",
    "num_to_node = organize.num_to_node\n",
    "\n",
    "# split for training\n",
    "X_train, X_test, y_train, y_test = train_test_split(X, y, test_size=0.20, random_state=12)\n",
    "\n",
    "# scaling X\n",
    "scaler_X = StandardScaler()\n",
    "X_train = scaler_X.fit_transform(X_train)\n",
    "X_test = scaler_X.transform(X_test)\n",
    "\n",
    "# scalying y\n",
    "scaler_y = StandardScaler()\n",
    "y_train = scaler_y.fit_transform(y_train).reshape(-1)\n",
    "y_test = scaler_y.transform(y_test).reshape(-1)"
   ]
  },
  {
   "cell_type": "code",
   "execution_count": 7,
   "metadata": {},
   "outputs": [],
   "source": [
    "X_train_lower = np.linalg.cholesky(L_norm.todense())"
   ]
  },
  {
   "cell_type": "markdown",
   "metadata": {},
   "source": [
    "# Lasso + LapRidge"
   ]
  },
  {
   "cell_type": "code",
   "execution_count": null,
   "metadata": {},
   "outputs": [],
   "source": [
    "alpha1_list = np.logspace(-1,0,15)\n",
    "alpha2_list = np.logspace(-1,2,15)\n",
    "alpha_pairs = list(itertools.product(alpha1_list, alpha2_list))"
   ]
  },
  {
   "cell_type": "code",
   "execution_count": 8,
   "metadata": {},
   "outputs": [],
   "source": [
    "def loss_fn(X,Y, L, alpha1, alpha2, beta):\n",
    "    return 0.5/(len(X)) * cp.norm2(cp.matmul(X, beta) - Y)**2 + \\\n",
    "           alpha1 * cp.norm1(beta) + \\\n",
    "           alpha2 * cp.sum(cp.quad_form(beta,L)) \n",
    "\n",
    "def run(pair):\n",
    "    beta = cp.Variable(X_train.shape[1])\n",
    "    alpha1 = cp.Parameter(nonneg=True)\n",
    "    alpha2 = cp.Parameter(nonneg=True)\n",
    "    alpha1.value = pair[0]\n",
    "    alpha2.value = pair[1]\n",
    "    \n",
    "    problem = cp.Problem(cp.Minimize(loss_fn(X_train, y_train, L_norm, alpha1, alpha2, beta )))\n",
    "    problem.solve(solver = cp.SCS, verbose = True)\n",
    "\n",
    "    return beta.value"
   ]
  },
  {
   "cell_type": "code",
   "execution_count": 10,
   "metadata": {},
   "outputs": [
    {
     "name": "stderr",
     "output_type": "stream",
     "text": [
      "[Parallel(n_jobs=75)]: Using backend LokyBackend with 75 concurrent workers.\n",
      "[Parallel(n_jobs=75)]: Done  12 tasks      | elapsed: 19.2min\n",
      "[Parallel(n_jobs=75)]: Done  31 tasks      | elapsed: 25.0min\n",
      "[Parallel(n_jobs=75)]: Done  50 tasks      | elapsed: 35.0min\n",
      "[Parallel(n_jobs=75)]: Done  71 tasks      | elapsed: 48.5min\n",
      "[Parallel(n_jobs=75)]: Done  99 out of 225 | elapsed: 63.9min remaining: 81.3min\n",
      "[Parallel(n_jobs=75)]: Done 122 out of 225 | elapsed: 77.5min remaining: 65.4min\n",
      "[Parallel(n_jobs=75)]: Done 145 out of 225 | elapsed: 90.0min remaining: 49.7min\n",
      "[Parallel(n_jobs=75)]: Done 168 out of 225 | elapsed: 101.1min remaining: 34.3min\n",
      "[Parallel(n_jobs=75)]: Done 191 out of 225 | elapsed: 113.1min remaining: 20.1min\n",
      "[Parallel(n_jobs=75)]: Done 214 out of 225 | elapsed: 119.3min remaining:  6.1min\n",
      "[Parallel(n_jobs=75)]: Done 225 out of 225 | elapsed: 121.0min finished\n"
     ]
    }
   ],
   "source": [
    "betas = Parallel(n_jobs=75, verbose=10)(delayed(run)(pair) for pair in alpha_pairs)"
   ]
  },
  {
   "cell_type": "code",
   "execution_count": 12,
   "metadata": {},
   "outputs": [
    {
     "data": {
      "image/png": "[encoded data removed]",
      "text/plain": [
       "<Figure size 432x288 with 2 Axes>"
      ]
     },
     "metadata": {
      "needs_background": "light"
     },
     "output_type": "display_data"
    }
   ],
   "source": [
    "feats = [getFeatures(None, i, threshold=0.001, max_features=10) for i in betas]\n",
    "regr = LinearRegression()\n",
    "scores = [getScoring(regr, X_train, y_train, X_test, y_test, i, None) for i in feats]\n",
    "train_scores = [i[0] for i in scores]\n",
    "test_scores = [i[1] for i in scores]\n",
    "gridsearch_results = pd.DataFrame(np.array(test_scores), columns = ['Test MSE'])\n",
    "getGridsearchPlot(gridsearch_results, alpha1_list, alpha2_list, save_location = None)"
   ]
  },
  {
   "cell_type": "code",
   "execution_count": 19,
   "metadata": {},
   "outputs": [
    {
     "data": {
      "text/plain": [
       "0.6665589401666011"
      ]
     },
     "execution_count": 19,
     "metadata": {},
     "output_type": "execute_result"
    }
   ],
   "source": [
    "min(test_scores)"
   ]
  },
  {
   "cell_type": "code",
   "execution_count": 20,
   "metadata": {},
   "outputs": [
    {
     "data": {
      "text/plain": [
       "(array([13]),)"
      ]
     },
     "execution_count": 20,
     "metadata": {},
     "output_type": "execute_result"
    }
   ],
   "source": [
    "np.where(test_scores == min(test_scores))"
   ]
  },
  {
   "cell_type": "code",
   "execution_count": 21,
   "metadata": {},
   "outputs": [
    {
     "name": "stderr",
     "output_type": "stream",
     "text": [
      "/home/gokamath/anaconda3/envs/py373/lib/python3.7/site-packages/networkx/drawing/nx_pylab.py:579: MatplotlibDeprecationWarning: \n",
      "The iterable function was deprecated in Matplotlib 3.1 and will be removed in 3.3. Use np.iterable instead.\n",
      "  if not cb.iterable(width):\n"
     ]
    },
    {
     "data": {
      "image/png": "[encoded data removed]",
      "text/plain": [
       "<Figure size 432x288 with 1 Axes>"
      ]
     },
     "metadata": {},
     "output_type": "display_data"
    }
   ],
   "source": [
    "getTranslatedNodes(feats[13], betas[13][feats[13]], num_to_node, g)"
   ]
  },
  {
   "cell_type": "markdown",
   "metadata": {},
   "source": [
    "# MCP + LapRidge"
   ]
  },
  {
   "cell_type": "code",
   "execution_count": 22,
   "metadata": {},
   "outputs": [],
   "source": [
    "# hyperparameters\n",
    "alpha1_list = np.logspace(-3,-2,15)\n",
    "alpha2_list = np.logspace(-1,2,15)\n",
    "max_features = 10\n",
    "alpha_list_pairs = list(itertools.product(alpha1_list, alpha2_list))"
   ]
  },
  {
   "cell_type": "code",
   "execution_count": 23,
   "metadata": {},
   "outputs": [
    {
     "name": "stdout",
     "output_type": "stream",
     "text": [
      "Training is over.\n",
      "[10, 10, 10, 10, 10, 10, 10, 9, 10, 6, 4, 3, 0, 0, 0]\n",
      "Training is over.\n",
      "[10, 10, 10, 10, 10, 10, 10, 9, 10, 6, 4, 3, 0, 0, 0]\n",
      "Training is over.\n",
      "[10, 10, 10, 10, 10, 10, 10, 10, 10, 8, 4, 3, 0, 0, 0]\n",
      "Training is over.\n",
      "[10, 10, 10, 10, 10, 10, 10, 10, 8, 7, 4, 3, 0, 0, 0]\n",
      "Training is over.\n",
      "[10, 10, 10, 10, 10, 10, 10, 10, 10, 8, 4, 3, 0, 0, 0]\n",
      "Training is over.\n",
      "[10, 10, 10, 10, 10, 10, 10, 10, 8, 8, 5, 3, 0, 0, 0]\n",
      "Training is over.\n",
      "[10, 10, 10, 10, 10, 10, 10, 10, 10, 7, 4, 3, 0, 0, 0]\n",
      "Training is over.\n",
      "[10, 10, 10, 10, 10, 10, 10, 10, 8, 8, 5, 3, 0, 0, 0]\n",
      "Training is over.\n",
      "[10, 10, 10, 10, 10, 10, 10, 10, 10, 8, 5, 3, 0, 0, 0]\n",
      "Training is over.\n",
      "[10, 10, 10, 10, 10, 10, 10, 10, 10, 8, 5, 3, 0, 0, 0]\n",
      "Training is over.\n",
      "[10, 10, 10, 10, 10, 10, 10, 10, 10, 8, 5, 3, 0, 0, 0]\n",
      "Training is over.\n",
      "[10, 10, 10, 10, 10, 10, 10, 10, 10, 8, 5, 3, 0, 0, 0]\n",
      "Training is over.\n",
      "[10, 10, 10, 10, 10, 10, 10, 10, 10, 10, 5, 3, 0, 0, 0]\n",
      "Training is over.\n",
      "[10, 10, 10, 10, 10, 10, 10, 10, 10, 10, 5, 3, 0, 0, 0]\n",
      "Training is over.\n",
      "[10, 10, 10, 10, 10, 10, 10, 10, 10, 10, 6, 3, 0, 0, 0]\n"
     ]
    }
   ],
   "source": [
    "results = {}\n",
    "feats_list = []\n",
    "betas = []\n",
    "for i in alpha2_list:\n",
    "    X_train_new = np.vstack((X_train, np.sqrt(i)*X_train_lower))\n",
    "    y_train_new = np.concatenate((y_train, np.zeros(len(X_train_lower))))\n",
    "    s = pycasso.Solver(X_train_new, y_train_new, lambdas=alpha1_list, penalty = 'mcp')\n",
    "    s.train()\n",
    "    beta = s.coef()['beta']\n",
    "    \n",
    "    betas += [i for i in beta]\n",
    "    \n",
    "    feats = [getFeatures(None, i, threshold=0.001, max_features=10) for i in beta]\n",
    "    feats_list += feats\n",
    "    print([len(i) for i in feats])\n",
    "    \n",
    "    regr = LinearRegression()\n",
    "    scores = [getScoring(regr, X_train, y_train, X_test, y_test, i, None) for i in feats]\n",
    "    \n",
    "    results[i] = scores"
   ]
  },
  {
   "cell_type": "code",
   "execution_count": 24,
   "metadata": {},
   "outputs": [],
   "source": [
    "train_scores = []\n",
    "test_scores = []\n",
    "for k,v in results.items():\n",
    "    train_scores += [i[0] for i in v]\n",
    "    test_scores += [i[1] for i in v]"
   ]
  },
  {
   "cell_type": "code",
   "execution_count": 26,
   "metadata": {},
   "outputs": [
    {
     "data": {
      "image/png": "[encoded data removed]",
      "text/plain": [
       "<Figure size 432x288 with 2 Axes>"
      ]
     },
     "metadata": {
      "needs_background": "light"
     },
     "output_type": "display_data"
    }
   ],
   "source": [
    "gridsearch_results = pd.DataFrame(np.array(test_scores), columns = ['Test MSE'])\n",
    "getGridsearchPlot(gridsearch_results, alpha1_list, alpha2_list, save_location = None)"
   ]
  },
  {
   "cell_type": "code",
   "execution_count": 27,
   "metadata": {},
   "outputs": [
    {
     "data": {
      "text/plain": [
       "(array([174]),)"
      ]
     },
     "execution_count": 27,
     "metadata": {},
     "output_type": "execute_result"
    }
   ],
   "source": [
    "np.where(test_scores == min(test_scores))"
   ]
  },
  {
   "cell_type": "code",
   "execution_count": 28,
   "metadata": {},
   "outputs": [
    {
     "data": {
      "text/plain": [
       "0.6904067992189007"
      ]
     },
     "execution_count": 28,
     "metadata": {},
     "output_type": "execute_result"
    }
   ],
   "source": [
    "min(test_scores)"
   ]
  },
  {
   "cell_type": "code",
   "execution_count": 30,
   "metadata": {},
   "outputs": [
    {
     "name": "stderr",
     "output_type": "stream",
     "text": [
      "/home/gokamath/anaconda3/envs/py373/lib/python3.7/site-packages/networkx/drawing/nx_pylab.py:579: MatplotlibDeprecationWarning: \n",
      "The iterable function was deprecated in Matplotlib 3.1 and will be removed in 3.3. Use np.iterable instead.\n",
      "  if not cb.iterable(width):\n"
     ]
    },
    {
     "data": {
      "image/png": "[encoded data removed]",
      "text/plain": [
       "<Figure size 432x288 with 1 Axes>"
      ]
     },
     "metadata": {},
     "output_type": "display_data"
    }
   ],
   "source": [
    "getTranslatedNodes(feats_list[174], betas[174][feats_list[174]], num_to_node, g)"
   ]
  },
  {
   "cell_type": "markdown",
   "metadata": {},
   "source": [
    "# SCAD + LapRidge"
   ]
  },
  {
   "cell_type": "code",
   "execution_count": 31,
   "metadata": {},
   "outputs": [],
   "source": [
    "# hyperparameters\n",
    "alpha1_list = np.logspace(-3,-2,15)\n",
    "alpha2_list = np.logspace(-1,2,15)\n",
    "max_features = 10\n",
    "alpha_list_pairs = list(itertools.product(alpha1_list, alpha2_list))"
   ]
  },
  {
   "cell_type": "code",
   "execution_count": 32,
   "metadata": {},
   "outputs": [
    {
     "name": "stdout",
     "output_type": "stream",
     "text": [
      "Training is over.\n",
      "[10, 10, 10, 10, 10, 10, 10, 10, 10, 9, 5, 3, 0, 0, 0]\n",
      "Training is over.\n",
      "[10, 10, 10, 10, 10, 10, 10, 10, 10, 10, 5, 3, 0, 0, 0]\n",
      "Training is over.\n",
      "[10, 10, 10, 10, 10, 10, 10, 10, 10, 10, 5, 3, 0, 0, 0]\n",
      "Training is over.\n",
      "[10, 10, 10, 10, 10, 10, 10, 10, 10, 10, 5, 3, 0, 0, 0]\n",
      "Training is over.\n",
      "[10, 10, 10, 10, 10, 10, 10, 10, 10, 10, 5, 3, 0, 0, 0]\n",
      "Training is over.\n",
      "[10, 10, 10, 10, 10, 10, 10, 10, 10, 10, 5, 3, 0, 0, 0]\n",
      "Training is over.\n",
      "[10, 10, 10, 10, 10, 10, 10, 10, 10, 10, 5, 3, 0, 0, 0]\n",
      "Training is over.\n",
      "[10, 10, 10, 10, 10, 10, 10, 10, 10, 10, 5, 3, 0, 0, 0]\n",
      "Training is over.\n",
      "[10, 10, 10, 10, 10, 10, 10, 10, 10, 10, 5, 3, 0, 0, 0]\n",
      "Training is over.\n",
      "[10, 10, 10, 10, 10, 10, 10, 10, 10, 10, 5, 3, 0, 0, 0]\n",
      "Training is over.\n",
      "[10, 10, 10, 10, 10, 10, 10, 10, 10, 10, 5, 3, 0, 0, 0]\n",
      "Training is over.\n",
      "[10, 10, 10, 10, 10, 10, 10, 10, 10, 10, 6, 3, 0, 0, 0]\n",
      "Training is over.\n",
      "[10, 10, 10, 10, 10, 10, 10, 10, 10, 10, 6, 3, 0, 0, 0]\n",
      "Training is over.\n",
      "[10, 10, 10, 10, 10, 10, 10, 10, 10, 10, 8, 3, 0, 0, 0]\n",
      "Training is over.\n",
      "[10, 10, 10, 10, 10, 10, 10, 10, 10, 10, 9, 3, 0, 0, 0]\n"
     ]
    }
   ],
   "source": [
    "results = {}\n",
    "feats_list = []\n",
    "betas = []\n",
    "for i in alpha2_list:\n",
    "    X_train_new = np.vstack((X_train, np.sqrt(i)*X_train_lower))\n",
    "    y_train_new = np.concatenate((y_train, np.zeros(len(X_train_lower))))\n",
    "    s = pycasso.Solver(X_train_new, y_train_new, lambdas=alpha1_list, penalty = 'scad')\n",
    "    s.train()\n",
    "    beta = s.coef()['beta']\n",
    "    \n",
    "    betas += [i for i in beta]\n",
    "    \n",
    "    feats = [getFeatures(None, i, threshold=0.001, max_features=10) for i in beta]\n",
    "    feats_list += feats\n",
    "    print([len(i) for i in feats])\n",
    "    \n",
    "    regr = LinearRegression()\n",
    "    scores = [getScoring(regr, X_train, y_train, X_test, y_test, i, None) for i in feats]\n",
    "    \n",
    "    results[i] = scores"
   ]
  },
  {
   "cell_type": "code",
   "execution_count": 33,
   "metadata": {},
   "outputs": [],
   "source": [
    "train_scores = []\n",
    "test_scores = []\n",
    "for k,v in results.items():\n",
    "    train_scores += [i[0] for i in v]\n",
    "    test_scores += [i[1] for i in v]"
   ]
  },
  {
   "cell_type": "code",
   "execution_count": 35,
   "metadata": {},
   "outputs": [
    {
     "data": {
      "image/png": "[encoded data removed]",
      "text/plain": [
       "<Figure size 432x288 with 2 Axes>"
      ]
     },
     "metadata": {
      "needs_background": "light"
     },
     "output_type": "display_data"
    }
   ],
   "source": [
    "gridsearch_results = pd.DataFrame(np.array(test_scores), columns = ['Test MSE'])\n",
    "getGridsearchPlot(gridsearch_results, alpha1_list, alpha2_list, save_location = None)"
   ]
  },
  {
   "cell_type": "code",
   "execution_count": 36,
   "metadata": {},
   "outputs": [
    {
     "data": {
      "text/plain": [
       "0.6834992710201817"
      ]
     },
     "execution_count": 36,
     "metadata": {},
     "output_type": "execute_result"
    }
   ],
   "source": [
    "min(test_scores)"
   ]
  },
  {
   "cell_type": "code",
   "execution_count": 37,
   "metadata": {},
   "outputs": [
    {
     "data": {
      "text/plain": [
       "(array([159]),)"
      ]
     },
     "execution_count": 37,
     "metadata": {},
     "output_type": "execute_result"
    }
   ],
   "source": [
    "np.where(test_scores == min(test_scores))"
   ]
  },
  {
   "cell_type": "code",
   "execution_count": 38,
   "metadata": {},
   "outputs": [
    {
     "name": "stderr",
     "output_type": "stream",
     "text": [
      "/home/gokamath/anaconda3/envs/py373/lib/python3.7/site-packages/networkx/drawing/nx_pylab.py:579: MatplotlibDeprecationWarning: \n",
      "The iterable function was deprecated in Matplotlib 3.1 and will be removed in 3.3. Use np.iterable instead.\n",
      "  if not cb.iterable(width):\n"
     ]
    },
    {
     "data": {
      "image/png": "[encoded data removed]",
      "text/plain": [
       "<Figure size 432x288 with 1 Axes>"
      ]
     },
     "metadata": {},
     "output_type": "display_data"
    }
   ],
   "source": [
    "getTranslatedNodes(feats_list[159], betas[159][feats_list[159]], num_to_node, g)"
   ]
  }
 ],
 "metadata": {
  "kernelspec": {
   "display_name": "Python 3",
   "language": "python",
   "name": "python3"
  },
  "language_info": {
   "codemirror_mode": {
    "name": "ipython",
    "version": 3
   },
   "file_extension": ".py",
   "mimetype": "text/x-python",
   "name": "python",
   "nbconvert_exporter": "python",
   "pygments_lexer": "ipython3",
   "version": "3.7.4"
  }
 },
 "nbformat": 4,
 "nbformat_minor": 4
}
