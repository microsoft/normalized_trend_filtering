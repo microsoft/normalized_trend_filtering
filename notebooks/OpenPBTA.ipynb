{
 "cells": [
  {
   "cell_type": "code",
   "execution_count": 31,
   "metadata": {},
   "outputs": [],
   "source": [
    "import pandas as pd\n",
    "import numpy as np\n",
    "import sys \n",
    "import os\n",
    "import itertools\n",
    "import time\n",
    "import random\n",
    "\n",
    "#import utils\n",
    "sys.path.insert(0, '../utils/')\n",
    "from utils_preprocess_v3 import *\n",
    "from utils_modeling_v9 import *\n",
    "from utils_plots_v2 import *\n",
    "\n",
    "#sklearn\n",
    "from sklearn.metrics import mean_squared_error\n",
    "from sklearn.linear_model import LogisticRegression\n",
    "from sklearn.model_selection import train_test_split\n",
    "\n",
    "import warnings\n",
    "warnings.filterwarnings(\"ignore\")\n",
    "\n",
    "start_time = time.time()"
   ]
  },
  {
   "cell_type": "markdown",
   "metadata": {},
   "source": [
    "# load datasets"
   ]
  },
  {
   "cell_type": "code",
   "execution_count": 32,
   "metadata": {},
   "outputs": [],
   "source": [
    "data = pd.read_csv('../data/datasets_processed/OpenPBTA_data_mean.csv', index_col='Unnamed: 0', dtype = 'unicode')\n",
    "data = data.T.reset_index().rename(columns = {'index' : 'node'})\n",
    "response = pd.read_csv('../data/datasets_processed/OpenPBTA_response.csv', index_col='Kids_First_Biospecimen_ID')\n",
    "interactome = pd.read_csv('../data/interactomes/inbiomap_processed.txt', sep = '\\t')"
   ]
  },
  {
   "cell_type": "markdown",
   "metadata": {},
   "source": [
    "# preprocess"
   ]
  },
  {
   "cell_type": "code",
   "execution_count": 33,
   "metadata": {},
   "outputs": [],
   "source": [
    "# get nodes from data and graph\n",
    "data_nodes = data['node'].tolist()\n",
    "interactome_nodes = list(set(np.concatenate((interactome['node1'], interactome['node2']))))\n",
    "\n",
    "# organize data\n",
    "organize = Preprocessing()\n",
    "save_location = '../data/reduced_interactomes/reduced_interactome_OpenPBTA.txt'\n",
    "organize.transform(data_nodes, interactome_nodes, interactome, data, save_location, load_graph = True)"
   ]
  },
  {
   "cell_type": "code",
   "execution_count": 43,
   "metadata": {},
   "outputs": [],
   "source": [
    "L_norm_dagger = scipy.linalg.pinv(L_norm.toarray())"
   ]
  },
  {
   "cell_type": "code",
   "execution_count": 34,
   "metadata": {},
   "outputs": [],
   "source": [
    "# extract info from preprocessing\n",
    "X = organize.sorted_X.T.values\n",
    "y = response.values.reshape(-1,1)\n",
    "L_norm = organize.L_norm\n",
    "L = organize.L\n",
    "L_norm_dagger = scipy.linalg.pinv(L_norm.toarray())\n",
    "\n",
    "g = organize.g\n",
    "num_to_node = organize.num_to_node\n",
    "\n",
    "# split for training\n",
    "X_train, X_test, y_train, y_test = train_test_split(X, y, test_size=0.20, random_state=42)\n",
    "\n",
    "# scaling X\n",
    "scaler_X = StandardScaler()\n",
    "X_train = scaler_X.fit_transform(X_train)\n",
    "X_test = scaler_X.transform(X_test)\n",
    "\n",
    "# scalying y\n",
    "scaler_y = StandardScaler()\n",
    "y_train = scaler_y.fit_transform(y_train).reshape(-1)\n",
    "y_test = scaler_y.transform(y_test).reshape(-1)"
   ]
  },
  {
   "cell_type": "code",
   "execution_count": 35,
   "metadata": {},
   "outputs": [],
   "source": [
    "# define training params #RERUN WITH SOLVER PARAMS\n",
    "alpha_list = np.logspace(-1,0,15)\n",
    "threshold_list = np.logspace(-3,-1,10)\n",
    "max_features = 10\n",
    "solver_params = {'max_iters':50000}\n",
    "solver = cp.SCS"
   ]
  },
  {
   "cell_type": "markdown",
   "metadata": {},
   "source": [
    "# Lasso "
   ]
  },
  {
   "cell_type": "code",
   "execution_count": 15,
   "metadata": {},
   "outputs": [
    {
     "name": "stderr",
     "output_type": "stream",
     "text": [
      "[Parallel(n_jobs=80)]: Using backend LokyBackend with 80 concurrent workers.\n",
      "[Parallel(n_jobs=80)]: Done 142 out of 150 | elapsed: 162.8min remaining:  9.2min\n",
      "[Parallel(n_jobs=80)]: Done 150 out of 150 | elapsed: 163.6min finished\n"
     ]
    },
    {
     "name": "stdout",
     "output_type": "stream",
     "text": [
      "----------------------------------------------------------------------------\n",
      "\tSCS v2.1.1 - Splitting Conic Solver\n",
      "\t(c) Brendan O'Donoghue, Stanford University, 2012\n",
      "----------------------------------------------------------------------------\n",
      "Lin-sys: sparse-direct, nnz in A = 21084417\n",
      "eps = 1.00e-04, alpha = 1.50, max_iters = 10000, normalize = 1, scale = 1.00\n",
      "acceleration_lookback = 10, rho_x = 1.00e-03\n",
      "Variables n = 65788, constraints m = 66427\n",
      "Cones:\tlinear vars: 65786\n",
      "\tsoc vars: 641, soc blks: 2\n",
      "Setup time: 1.87e+01s\n",
      "----------------------------------------------------------------------------\n",
      " Iter | pri res | dua res | rel gap | pri obj | dua obj | kap/tau | time (s)\n",
      "----------------------------------------------------------------------------\n",
      "     0| 2.38e+21  3.56e+21  1.00e+00 -1.20e+23  2.81e+21  9.17e+21  2.60e-01 \n",
      "   100| 1.96e-03  5.30e-02  4.58e-02  2.26e+00  2.01e+00  2.48e-15  9.95e+00 \n",
      "   200| 8.83e-04  2.01e-02  1.86e-02  2.23e+00  2.33e+00  2.66e-15  1.94e+01 \n",
      "   300| 3.56e-03  1.25e-01  1.36e-01  2.01e+00  2.80e+00  3.67e-15  2.91e+01 \n",
      "   400| 2.98e-03  8.83e-02  9.58e-02  1.85e+00  2.35e+00  1.43e-15  3.86e+01 \n",
      "   500| 2.46e-03  6.13e-02  3.98e-02  1.84e+00  1.66e+00  1.97e-15  4.80e+01 \n",
      "   600| 3.67e-03  1.21e-01  1.19e-01  1.41e+00  1.01e+00  5.22e-15  5.75e+01 \n",
      "   700| 3.59e-03  1.59e-01  1.77e-01  1.38e+00  2.18e+00  8.96e-15  6.75e+01 \n",
      "   800| 2.31e-03  1.26e-01  1.81e-01  9.77e-01  1.63e+00  5.53e-16  7.71e+01 \n",
      "   900| 2.09e-03  9.69e-02  1.18e-01  9.66e-01  6.55e-01  7.09e-16  8.67e+01 \n",
      "  1000| 2.53e-03  5.07e-02  3.86e-02  8.93e-01  1.00e+00  1.98e-15  9.63e+01 \n",
      "  1100| 2.06e-03  4.00e-02  5.19e-02  9.03e-01  1.06e+00  1.50e-15  1.06e+02 \n",
      "  1200| 1.60e-03  7.18e-02  1.38e-01  7.54e-01  4.51e-01  6.81e-16  1.16e+02 \n",
      "  1300| 1.22e-03  4.99e-02  2.27e-02  6.99e-01  7.55e-01  3.60e-15  1.25e+02 \n",
      "  1400| 7.81e-04  3.66e-02  5.69e-02  6.79e-01  8.21e-01  1.06e-15  1.35e+02 \n",
      "  1500| 2.32e-03  6.74e-02  3.13e-02  6.15e-01  5.47e-01  4.63e-16  1.44e+02 \n",
      "  1600| 8.18e-04  5.74e-02  1.06e-01  5.65e-01  3.61e-01  3.44e-15  1.54e+02 \n",
      "  1700| 1.16e-03  6.32e-02  1.13e-01  5.13e-01  3.07e-01  7.77e-15  1.63e+02 \n",
      "  1800| 1.60e-03  1.28e-01  3.55e-01  4.78e-01 -7.18e-02  4.07e-15  1.73e+02 \n",
      "  1900| 1.16e-03  9.11e-02  1.93e-01  5.62e-01  2.19e-01  1.82e-15  1.82e+02 \n",
      "  2000| 1.09e-03  7.62e-02  1.33e-01  5.21e-01  8.33e-01  4.66e-15  1.92e+02 \n",
      "  2100| 4.90e-04  2.62e-02  3.52e-03  5.38e-01  5.31e-01  3.49e-17  2.01e+02 \n",
      "  2200| 1.14e-03  6.64e-02  9.57e-02  5.17e-01  7.32e-01  3.59e-15  2.11e+02 \n",
      "  2300| 1.08e-03  5.24e-02  8.60e-02  4.53e-01  3.02e-01  1.08e-14  2.20e+02 \n",
      "  2400| 1.04e-03  5.23e-02  8.20e-02  5.66e-01  7.56e-01  3.98e-15  2.30e+02 \n",
      "  2500| 6.82e-04  3.12e-02  5.44e-02  4.62e-01  3.63e-01  1.38e-15  2.39e+02 \n",
      "  2600| 1.38e-03  5.04e-02  6.54e-02  4.54e-01  3.37e-01  4.52e-15  2.49e+02 \n",
      "  2700| 5.83e-04  3.57e-02  3.69e-02  5.08e-01  4.36e-01  1.97e-15  2.58e+02 \n",
      "  2800| 8.84e-04  4.55e-02  7.86e-02  4.91e-01  6.60e-01  2.15e-15  2.68e+02 \n",
      "  2900| 1.30e-03  5.10e-02  1.11e-01  4.39e-01  2.52e-01  1.94e-15  2.77e+02 \n",
      "  3000| 7.87e-04  4.31e-02  5.01e-02  5.00e-01  4.04e-01  4.09e-15  2.87e+02 \n",
      "  3100| 4.51e-04  1.44e-02  2.33e-02  5.06e-01  5.54e-01  2.51e-15  2.97e+02 \n",
      "  3200| 5.82e-04  4.64e-02  4.56e-02  5.03e-01  4.15e-01  8.40e-16  3.06e+02 \n",
      "  3300| 6.59e-04  3.11e-02  6.01e-02  5.22e-01  6.52e-01  1.06e-15  3.16e+02 \n",
      "  3400| 6.01e-04  2.91e-02  1.67e-02  5.06e-01  4.73e-01  2.10e-15  3.25e+02 \n",
      "  3500| 2.99e-04  2.06e-02  3.18e-02  4.88e-01  5.53e-01  6.89e-15  3.35e+02 \n",
      "  3600| 6.67e-04  1.90e-02  2.12e-02  4.82e-01  4.41e-01  5.80e-15  3.44e+02 \n",
      "  3700| 2.93e-04  1.70e-02  2.23e-02  4.73e-01  4.30e-01  6.05e-15  3.54e+02 \n",
      "  3800| 2.15e-04  1.98e-02  1.74e-02  4.85e-01  4.51e-01  1.01e-15  3.63e+02 \n",
      "  3900| 3.87e-04  1.32e-02  2.30e-02  4.57e-01  4.14e-01  2.12e-15  3.73e+02 \n",
      "  4000| 1.85e-04  9.28e-03  9.33e-03  4.82e-01  5.01e-01  2.27e-15  3.82e+02 \n",
      "  4100| 3.68e-04  2.20e-02  2.24e-02  4.55e-01  4.13e-01  5.51e-15  3.92e+02 \n",
      "  4200| 2.13e-04  1.02e-02  2.35e-02  4.92e-01  5.39e-01  1.89e-16  4.01e+02 \n",
      "  4300| 1.67e-04  8.07e-03  6.24e-03  4.80e-01  4.68e-01  7.28e-15  4.11e+02 \n",
      "  4400| 4.24e-04  1.03e-02  3.65e-03  4.62e-01  4.69e-01  6.16e-16  4.20e+02 \n",
      "  4500| 8.26e-05  6.03e-03  1.17e-02  4.82e-01  5.05e-01  7.01e-15  4.30e+02 \n",
      "  4600| 2.44e-04  1.00e-02  4.07e-04  4.79e-01  4.79e-01  3.67e-15  4.39e+02 \n",
      "  4700| 1.01e-04  1.24e-02  1.81e-02  4.68e-01  4.34e-01  9.51e-16  4.49e+02 \n",
      "  4800| 1.19e-04  8.66e-03  1.25e-02  4.71e-01  4.47e-01  2.76e-15  4.58e+02 \n",
      "  4900| 9.89e-05  5.25e-03  1.84e-04  4.72e-01  4.73e-01  7.62e-16  4.68e+02 \n",
      "  5000| 6.05e-05  7.95e-03  1.14e-02  4.74e-01  4.52e-01  1.63e-15  4.77e+02 \n",
      "  5100| 4.34e-05  6.21e-03  4.09e-03  4.78e-01  4.70e-01  3.13e-15  4.87e+02 \n",
      "  5200| 9.09e-05  3.08e-03  1.69e-03  4.73e-01  4.69e-01  9.58e-16  4.96e+02 \n",
      "  5300| 1.76e-04  1.09e-02  1.15e-02  4.75e-01  4.97e-01  7.00e-15  5.06e+02 \n",
      "  5400| 1.05e-04  1.11e-02  1.38e-02  4.77e-01  5.04e-01  3.28e-15  5.15e+02 \n",
      "  5500| 6.61e-05  2.98e-03  4.99e-03  4.82e-01  4.92e-01  2.64e-15  5.25e+02 \n",
      "  5600| 4.41e-05  3.13e-03  2.37e-03  4.79e-01  4.74e-01  1.13e-15  5.34e+02 \n",
      "  5700| 6.56e-05  2.12e-03  2.09e-03  4.76e-01  4.71e-01  2.74e-15  5.44e+02 \n",
      "  5800| 3.00e-05  3.57e-03  4.18e-03  4.76e-01  4.68e-01  2.81e-15  5.53e+02 \n",
      "  5900| 9.38e-05  6.48e-03  5.99e-03  4.83e-01  4.95e-01  7.11e-15  5.63e+02 \n",
      "  6000| 5.65e-05  2.72e-03  3.76e-04  4.80e-01  4.80e-01  1.61e-15  5.72e+02 \n",
      "  6100| 2.40e-05  1.49e-03  3.78e-04  4.78e-01  4.77e-01  1.96e-15  5.82e+02 \n",
      "  6200| 2.34e-05  2.17e-03  2.29e-03  4.78e-01  4.73e-01  3.71e-16  5.91e+02 \n",
      "  6300| 2.20e-05  1.37e-03  1.73e-04  4.78e-01  4.77e-01  4.59e-16  6.01e+02 \n",
      "  6400| 3.84e-05  2.01e-03  2.67e-03  4.76e-01  4.70e-01  3.20e-15  6.10e+02 \n",
      "  6500| 2.85e-05  1.65e-03  2.19e-03  4.80e-01  4.85e-01  2.17e-15  6.20e+02 \n",
      "  6600| 2.74e-05  1.08e-03  6.41e-04  4.75e-01  4.74e-01  1.50e-15  6.29e+02 \n",
      "  6700| 1.94e-05  1.01e-03  1.35e-04  4.77e-01  4.77e-01  3.30e-15  6.39e+02 \n",
      "  6800| 1.32e-05  8.43e-04  1.47e-03  4.79e-01  4.82e-01  2.38e-16  6.48e+02 \n",
      "  6900| 8.77e-06  4.11e-04  2.52e-04  4.78e-01  4.77e-01  2.54e-15  6.58e+02 \n",
      "  7000| 1.22e-05  4.66e-04  6.92e-04  4.79e-01  4.80e-01  2.61e-16  6.67e+02 \n",
      "  7100| 1.16e-05  7.10e-04  4.73e-04  4.78e-01  4.77e-01  1.39e-15  6.77e+02 \n",
      "  7200| 1.04e-05  5.57e-04  4.03e-04  4.78e-01  4.77e-01  3.98e-16  6.86e+02 \n",
      "  7300| 6.95e-06  6.14e-04  5.24e-04  4.78e-01  4.77e-01  5.60e-16  6.97e+02 \n",
      "  7400| 6.98e-06  2.48e-04  3.10e-04  4.79e-01  4.79e-01  1.80e-15  7.07e+02 \n",
      "  7500| 4.24e-06  4.85e-04  6.34e-04  4.78e-01  4.79e-01  4.35e-16  7.18e+02 \n",
      "  7600| 4.61e-06  1.85e-04  1.29e-04  4.78e-01  4.79e-01  4.12e-15  7.28e+02 \n",
      "  7700| 6.53e-06  4.37e-04  2.29e-04  4.78e-01  4.77e-01  1.88e-15  7.39e+02 \n",
      "  7800| 1.76e-05  4.45e-04  2.59e-04  4.78e-01  4.78e-01  3.49e-15  7.49e+02 \n",
      "  7900| 6.29e-06  4.47e-04  5.51e-04  4.78e-01  4.79e-01  3.75e-15  7.60e+02 \n",
      "  8000| 4.01e-06  2.07e-04  1.97e-04  4.78e-01  4.77e-01  3.78e-15  7.70e+02 \n",
      "  8100| 3.83e-06  2.91e-04  4.86e-04  4.78e-01  4.79e-01  2.97e-15  7.81e+02 \n",
      "  8180| 2.21e-06  8.13e-05  6.07e-06  4.78e-01  4.78e-01  4.59e-15  7.89e+02 \n",
      "----------------------------------------------------------------------------\n",
      "Status: Solved\n",
      "Timing: Solve time: 7.89e+02s\n",
      "\tLin-sys: nnz in L factor: 21452091, avg solve time: 8.22e-02s\n",
      "\tCones: avg projection time: 9.76e-05s\n",
      "\tAcceleration: avg step time: 7.28e-03s\n",
      "----------------------------------------------------------------------------\n",
      "Error metrics:\n",
      "dist(s, K) = 1.7764e-15, dist(y, K*) = 0.0000e+00, s'y/|s||y| = 8.1820e-19\n",
      "primal res: |Ax + s - b|_2 / (1 + |b|_2) = 2.2147e-06\n",
      "dual res:   |A'y + c|_2 / (1 + |c|_2) = 8.1321e-05\n",
      "rel gap:    |c'x + b'y| / (1 + |c'x| + |b'y|) = 6.0732e-06\n",
      "----------------------------------------------------------------------------\n",
      "c'x = 0.4779, -b'y = 0.4779\n",
      "============================================================================\n"
     ]
    }
   ],
   "source": [
    "VanillaLasso = LaplacianRegression('Lasso')\n",
    "VanillaLasso.fit(X_train, y_train, X_test, y_test, alpha_list, threshold_list, L=None,\n",
    "                 max_features=max_features, solver=solver, solver_params = solver_params, \n",
    "                 force_features=True, verbose=True, n_jobs=15)"
   ]
  },
  {
   "cell_type": "code",
   "execution_count": 16,
   "metadata": {},
   "outputs": [
    {
     "data": {
      "image/png": "[encoded data removed]",
      "text/plain": [
       "<Figure size 432x288 with 2 Axes>"
      ]
     },
     "metadata": {
      "needs_background": "light"
     },
     "output_type": "display_data"
    }
   ],
   "source": [
    "VanillaLasso.plotgridsearch()"
   ]
  },
  {
   "cell_type": "code",
   "execution_count": 17,
   "metadata": {},
   "outputs": [
    {
     "name": "stdout",
     "output_type": "stream",
     "text": [
      "Test MSE :  0.8303222908336825\n"
     ]
    }
   ],
   "source": [
    "print('Test MSE : ' ,VanillaLasso.predict(X_test, y_test))"
   ]
  },
  {
   "cell_type": "code",
   "execution_count": 18,
   "metadata": {},
   "outputs": [
    {
     "data": {
      "image/png": "[encoded data removed]",
      "text/plain": [
       "<Figure size 432x288 with 1 Axes>"
      ]
     },
     "metadata": {},
     "output_type": "display_data"
    }
   ],
   "source": [
    "getTranslatedNodes(VanillaLasso.feats_, VanillaLasso.regr_.coef_, num_to_node, g,)"
   ]
  },
  {
   "cell_type": "markdown",
   "metadata": {},
   "source": [
    "# NTF-Lasso"
   ]
  },
  {
   "cell_type": "code",
   "execution_count": 6,
   "metadata": {},
   "outputs": [
    {
     "name": "stderr",
     "output_type": "stream",
     "text": [
      "[Parallel(n_jobs=8)]: Using backend LokyBackend with 8 concurrent workers.\n",
      "[Parallel(n_jobs=8)]: Done  15 out of  15 | elapsed: 194.8min finished\n"
     ]
    },
    {
     "name": "stdout",
     "output_type": "stream",
     "text": [
      "----------------------------------------------------------------------------\n",
      "\tSCS v2.1.1 - Splitting Conic Solver\n",
      "\t(c) Brendan O'Donoghue, Stanford University, 2012\n",
      "----------------------------------------------------------------------------\n",
      "Lin-sys: sparse-direct, nnz in A = 23503281\n",
      "eps = 1.00e-04, alpha = 1.50, max_iters = 10000, normalize = 1, scale = 1.00\n",
      "acceleration_lookback = 10, rho_x = 1.00e-03\n",
      "Variables n = 65788, constraints m = 66427\n",
      "Cones:\tlinear vars: 65786\n",
      "\tsoc vars: 641, soc blks: 2\n",
      "Setup time: 7.08e+02s\n",
      "----------------------------------------------------------------------------\n",
      " Iter | pri res | dua res | rel gap | pri obj | dua obj | kap/tau | time (s)\n",
      "----------------------------------------------------------------------------\n",
      "     0| 2.38e+21  3.64e+21  1.00e+00 -2.74e+23  6.22e+21  2.10e+22  8.60e-01 \n",
      "   100| 2.58e-03  6.15e-02  6.06e-02  5.22e+00  5.96e+00  1.13e-14  5.18e+01 \n",
      "   200| 1.46e-03  4.55e-02  6.57e-02  4.95e+00  5.71e+00  4.60e-15  1.03e+02 \n",
      "   300| 1.89e-03  3.40e-02  2.03e-02  4.84e+00  4.63e+00  9.63e-15  1.52e+02 \n",
      "   400| 5.56e-03  1.54e-01  1.49e-01  3.80e+00  5.31e+00  4.90e-15  2.06e+02 \n",
      "   500| 5.94e-03  1.30e-01  1.46e-01  3.88e+00  5.38e+00  6.89e-15  2.57e+02 \n",
      "   600| 3.10e-03  7.79e-02  4.39e-02  3.08e+00  3.41e+00  7.31e-15  3.10e+02 \n",
      "   700| 1.12e-03  5.12e-02  1.31e-04  2.62e+00  2.62e+00  8.60e-15  3.63e+02 \n",
      "   800| 1.69e-03  6.50e-02  1.33e-02  2.35e+00  2.28e+00  2.95e-15  4.11e+02 \n",
      "   900| 2.12e-03  9.46e-02  1.67e-01  2.06e+00  3.09e+00  4.73e-15  4.61e+02 \n",
      "  1000| 1.12e-03  6.07e-02  1.62e-02  1.72e+00  1.65e+00  1.35e-14  5.10e+02 \n",
      "  1100| 3.65e-03  8.67e-02  4.78e-02  1.30e+00  1.48e+00  9.57e-15  5.61e+02 \n",
      "  1200| 1.26e-03  6.49e-02  1.06e-01  1.43e+00  1.06e+00  9.78e-15  6.09e+02 \n",
      "  1300| 2.32e-03  1.19e-01  4.98e-01  1.23e+00  7.89e-02  7.61e-15  6.63e+02 \n",
      "  1400| 1.60e-03  7.78e-02  1.41e-01  1.05e+00  1.56e+00  4.67e-15  7.13e+02 \n",
      "  1500| 1.95e-03  3.87e-02  8.62e-02  1.28e+00  1.61e+00  1.42e-14  7.67e+02 \n",
      "  1600| 1.38e-03  4.51e-02  1.17e-01  9.75e-01  1.36e+00  1.14e-15  8.19e+02 \n",
      "  1700| 2.23e-03  5.79e-02  4.49e-02  8.72e-01  7.54e-01  7.33e-15  8.71e+02 \n",
      "  1800| 1.51e-03  5.79e-02  1.08e-01  8.45e-01  1.17e+00  2.11e-14  9.23e+02 \n",
      "  1900| 1.49e-03  4.90e-02  8.31e-02  9.67e-01  1.23e+00  2.58e-14  9.73e+02 \n",
      "  2000| 1.77e-03  9.35e-02  2.46e-01  8.31e-01  1.70e+00  6.66e-15  1.02e+03 \n",
      "  2100| 1.12e-03  6.83e-02  4.15e-01  4.23e-01 -2.87e-01  4.14e-15  1.07e+03 \n",
      "  2200| 8.80e-04  3.90e-02  1.34e-01  7.21e-01  1.10e+00  1.45e-14  1.12e+03 \n",
      "  2300| 1.90e-03  4.96e-02  2.41e-02  8.12e-01  8.77e-01  6.12e-16  1.17e+03 \n",
      "  2400| 4.92e-03  1.84e-01  3.72e-01  2.25e-01  1.08e+00  5.97e-15  1.22e+03 \n",
      "  2500| 1.82e-03  6.69e-02  1.33e-01  8.05e-01  1.21e+00  8.47e-17  1.27e+03 \n",
      "  2600| 1.23e-03  1.45e-01  5.21e-01  3.26e-01 -7.61e-01  1.02e-14  1.32e+03 \n",
      "  2700| 2.22e-03  9.20e-02  3.37e-01  1.72e-01 -3.35e-01  4.54e-15  1.37e+03 \n",
      "  2800| 1.32e-03  7.30e-02  1.81e-01  5.54e-01  2.32e-01  3.72e-15  1.42e+03 \n",
      "  2900| 7.28e-04  3.38e-02  1.13e-01  5.41e-01  8.05e-01  9.90e-15  1.47e+03 \n",
      "  3000| 1.10e-03  6.09e-02  1.73e-01  7.24e-01  1.24e+00  3.90e-15  1.52e+03 \n",
      "  3100| 4.11e-04  2.44e-02  3.80e-02  5.80e-01  6.66e-01  4.70e-15  1.57e+03 \n",
      "  3200| 5.28e-04  3.17e-02  1.10e-01  5.87e-01  8.56e-01  1.75e-14  1.62e+03 \n",
      "  3300| 9.56e-04  3.80e-02  4.32e-02  5.62e-01  4.75e-01  6.47e-15  1.67e+03 \n",
      "  3400| 7.65e-04  6.46e-02  1.49e-01  5.88e-01  3.05e-01  6.15e-15  1.72e+03 \n",
      "  3500| 5.32e-04  2.37e-02  1.00e-02  4.92e-01  4.72e-01  2.13e-15  1.77e+03 \n",
      "  3600| 3.52e-04  2.17e-02  3.60e-02  4.76e-01  4.08e-01  1.63e-14  1.82e+03 \n",
      "  3700| 4.97e-04  3.13e-02  7.27e-02  5.15e-01  3.77e-01  8.83e-15  1.86e+03 \n",
      "  3800| 2.83e-04  1.82e-02  1.55e-02  4.58e-01  4.29e-01  3.53e-16  1.91e+03 \n",
      "  3900| 2.82e-04  1.97e-02  3.22e-02  4.48e-01  3.89e-01  1.20e-14  1.95e+03 \n",
      "  4000| 2.37e-04  1.51e-02  1.50e-02  4.97e-01  5.27e-01  9.58e-15  2.00e+03 \n",
      "  4100| 3.81e-04  1.43e-02  1.93e-03  4.48e-01  4.45e-01  4.96e-15  2.04e+03 \n",
      "  4200| 3.77e-04  2.75e-02  9.28e-02  4.11e-01  2.57e-01  1.00e-16  2.09e+03 \n",
      "  4300| 5.22e-04  2.93e-02  7.30e-02  5.01e-01  3.65e-01  5.68e-16  2.14e+03 \n",
      "  4400| 2.43e-04  1.50e-02  5.22e-02  5.26e-01  6.39e-01  5.25e-15  2.19e+03 \n",
      "  4500| 2.58e-04  1.33e-02  2.09e-02  5.31e-01  5.75e-01  7.48e-15  2.24e+03 \n",
      "  4600| 2.11e-04  1.04e-02  9.64e-04  5.15e-01  5.17e-01  4.19e-15  2.29e+03 \n",
      "  4700| 2.56e-04  1.43e-02  4.12e-03  5.24e-01  5.16e-01  4.03e-15  2.33e+03 \n",
      "  4800| 1.80e-04  1.48e-02  4.95e-02  4.79e-01  3.87e-01  8.17e-15  2.38e+03 \n",
      "  4900| 3.04e-04  1.69e-02  8.27e-03  5.26e-01  5.09e-01  1.28e-14  2.43e+03 \n",
      "  5000| 1.21e-04  7.42e-03  1.82e-02  4.88e-01  4.53e-01  1.90e-14  2.48e+03 \n",
      "  5100| 1.53e-04  2.08e-02  6.93e-02  4.92e-01  3.63e-01  6.27e-15  2.52e+03 \n",
      "  5200| 3.86e-04  8.13e-03  1.46e-02  4.70e-01  4.42e-01  2.34e-15  2.57e+03 \n",
      "  5300| 1.07e-04  5.12e-03  2.00e-03  4.77e-01  4.73e-01  1.96e-15  2.62e+03 \n",
      "  5400| 1.41e-04  9.23e-03  2.54e-02  5.01e-01  5.53e-01  3.11e-15  2.67e+03 \n",
      "  5500| 1.80e-04  1.14e-02  3.02e-02  5.08e-01  4.49e-01  1.95e-14  2.72e+03 \n",
      "  5600| 5.63e-05  5.72e-03  1.45e-02  4.89e-01  4.61e-01  4.50e-15  2.77e+03 \n",
      "  5700| 9.00e-05  6.84e-03  2.31e-02  5.00e-01  5.47e-01  1.51e-14  2.82e+03 \n",
      "  5800| 4.72e-05  4.13e-03  1.23e-02  4.96e-01  5.21e-01  6.30e-15  2.87e+03 \n",
      "  5900| 2.32e-04  1.07e-02  2.69e-02  4.66e-01  4.16e-01  4.77e-15  2.92e+03 \n",
      "  6000| 7.27e-05  6.72e-03  1.46e-02  5.06e-01  5.35e-01  2.92e-15  2.97e+03 \n",
      "  6100| 8.51e-05  4.43e-03  9.25e-03  4.82e-01  4.64e-01  1.49e-14  3.02e+03 \n",
      "  6200| 3.86e-05  7.88e-03  2.46e-02  4.90e-01  4.42e-01  1.62e-14  3.07e+03 \n",
      "  6300| 6.24e-05  6.06e-03  1.21e-02  4.99e-01  5.23e-01  1.09e-14  3.12e+03 \n",
      "  6400| 7.47e-05  4.59e-03  6.37e-03  5.04e-01  5.17e-01  8.56e-15  3.17e+03 \n",
      "  6500| 8.23e-05  7.81e-03  3.12e-02  4.87e-01  4.28e-01  5.14e-15  3.22e+03 \n",
      "  6600| 6.89e-05  7.19e-03  1.55e-02  4.93e-01  4.63e-01  1.23e-14  3.27e+03 \n",
      "  6700| 7.37e-05  3.06e-03  6.12e-03  5.09e-01  5.21e-01  3.56e-15  3.32e+03 \n",
      "  6800| 8.69e-05  4.96e-03  1.95e-02  5.13e-01  5.53e-01  1.78e-14  3.37e+03 \n",
      "  6900| 5.06e-05  3.09e-03  5.99e-03  4.93e-01  5.05e-01  1.16e-14  3.42e+03 \n",
      "  7000| 8.08e-05  3.75e-03  9.44e-03  4.89e-01  4.70e-01  5.74e-15  3.47e+03 \n",
      "  7100| 6.68e-05  3.81e-03  8.43e-03  4.94e-01  4.78e-01  1.06e-14  3.52e+03 \n",
      "  7200| 7.75e-05  3.39e-03  7.26e-03  4.95e-01  5.09e-01  6.48e-16  3.57e+03 \n",
      "  7300| 2.60e-05  1.24e-03  1.02e-03  4.97e-01  4.99e-01  8.04e-15  3.62e+03 \n",
      "  7400| 3.02e-05  3.19e-03  1.06e-02  4.96e-01  5.18e-01  6.01e-15  3.67e+03 \n",
      "  7500| 4.45e-05  1.41e-03  4.18e-04  4.92e-01  4.93e-01  3.71e-15  3.72e+03 \n",
      "  7600| 2.66e-05  1.16e-03  3.33e-04  4.94e-01  4.95e-01  1.59e-15  3.77e+03 \n",
      "  7700| 3.55e-05  2.60e-03  3.90e-03  4.98e-01  4.90e-01  2.28e-15  3.81e+03 \n",
      "  7800| 2.69e-05  2.00e-03  7.40e-03  4.88e-01  4.74e-01  1.30e-14  3.87e+03 \n",
      "  7900| 1.83e-05  2.04e-03  7.21e-03  4.99e-01  5.14e-01  1.52e-14  3.91e+03 \n",
      "  8000| 4.25e-05  1.72e-03  1.65e-03  5.02e-01  5.05e-01  2.69e-15  3.96e+03 \n",
      "  8100| 3.67e-05  2.19e-03  3.14e-03  4.94e-01  5.00e-01  2.54e-15  4.01e+03 \n",
      "  8200| 2.29e-05  1.11e-03  8.92e-04  4.96e-01  4.98e-01  6.49e-15  4.06e+03 \n",
      "  8300| 2.47e-05  1.78e-03  1.07e-03  4.99e-01  4.97e-01  5.80e-15  4.11e+03 \n",
      "  8400| 2.58e-05  1.18e-03  1.73e-03  4.99e-01  4.95e-01  1.27e-14  4.16e+03 \n",
      "  8500| 2.25e-05  1.35e-03  2.34e-03  4.94e-01  4.99e-01  4.90e-15  4.21e+03 \n",
      "  8600| 3.35e-05  1.22e-03  1.48e-04  4.92e-01  4.91e-01  1.43e-14  4.26e+03 \n",
      "  8700| 1.85e-05  9.53e-04  1.84e-03  4.97e-01  5.01e-01  2.69e-15  4.31e+03 \n",
      "  8800| 1.74e-05  1.43e-03  5.26e-03  4.98e-01  5.09e-01  1.22e-15  4.35e+03 \n",
      "  8900| 1.06e-05  4.74e-04  5.57e-04  4.95e-01  4.96e-01  1.69e-14  4.40e+03 \n",
      "  9000| 6.93e-06  4.75e-04  2.71e-04  4.96e-01  4.96e-01  4.38e-15  4.45e+03 \n",
      "  9100| 1.43e-05  1.33e-03  3.11e-03  4.96e-01  4.90e-01  2.74e-15  4.50e+03 \n",
      "  9200| 1.47e-05  8.04e-04  1.18e-05  4.95e-01  4.95e-01  1.34e-14  4.55e+03 \n",
      "  9300| 1.82e-05  1.21e-03  2.51e-03  4.94e-01  4.99e-01  8.60e-15  4.60e+03 \n",
      "  9400| 1.41e-05  7.10e-04  4.68e-04  4.97e-01  4.98e-01  9.82e-15  4.65e+03 \n",
      "  9500| 1.23e-05  6.87e-04  1.37e-03  4.94e-01  4.97e-01  1.48e-14  4.70e+03 \n"
     ]
    },
    {
     "name": "stdout",
     "output_type": "stream",
     "text": [
      "  9600| 9.65e-06  7.61e-04  1.48e-03  4.95e-01  4.92e-01  2.49e-15  4.75e+03 \n",
      "  9700| 1.40e-05  4.30e-04  6.66e-04  4.95e-01  4.97e-01  1.54e-16  4.80e+03 \n",
      "  9800| 8.42e-06  8.20e-04  2.46e-03  4.96e-01  5.01e-01  8.72e-15  4.86e+03 \n",
      "  9900| 5.19e-06  5.43e-04  1.42e-03  4.95e-01  4.92e-01  6.84e-15  4.91e+03 \n",
      " 10000| 1.25e-05  3.40e-04  2.01e-05  4.94e-01  4.94e-01  2.91e-15  4.96e+03 \n",
      "----------------------------------------------------------------------------\n",
      "Status: Solved/Inaccurate\n",
      "Hit max_iters, solution may be inaccurate\n",
      "Timing: Solve time: 4.96e+03s\n",
      "\tLin-sys: nnz in L factor: 133175876, avg solve time: 4.76e-01s\n",
      "\tCones: avg projection time: 5.44e-05s\n",
      "\tAcceleration: avg step time: 9.77e-03s\n",
      "----------------------------------------------------------------------------\n",
      "Error metrics:\n",
      "dist(s, K) = 3.5527e-15, dist(y, K*) = 1.3878e-17, s'y/|s||y| = 7.8736e-19\n",
      "primal res: |Ax + s - b|_2 / (1 + |b|_2) = 1.2480e-05\n",
      "dual res:   |A'y + c|_2 / (1 + |c|_2) = 3.4038e-04\n",
      "rel gap:    |c'x + b'y| / (1 + |c'x| + |b'y|) = 2.0115e-05\n",
      "----------------------------------------------------------------------------\n",
      "c'x = 0.4941, -b'y = 0.4940\n",
      "============================================================================\n"
     ]
    }
   ],
   "source": [
    "NTFLasso = LaplacianRegression('Lasso')\n",
    "NTFLasso.fit(X_train, y_train, X_test, y_test, alpha_list, threshold_list, L=L_norm, \n",
    "             max_features=max_features, solver=solver, solver_params=solver_params,\n",
    "             force_features=True, verbose=True, n_jobs=8)"
   ]
  },
  {
   "cell_type": "code",
   "execution_count": 7,
   "metadata": {},
   "outputs": [
    {
     "data": {
      "image/png": "[encoded data removed]",
      "text/plain": [
       "<Figure size 432x288 with 2 Axes>"
      ]
     },
     "metadata": {
      "needs_background": "light"
     },
     "output_type": "display_data"
    }
   ],
   "source": [
    "NTFLasso.plotgridsearch()"
   ]
  },
  {
   "cell_type": "code",
   "execution_count": 8,
   "metadata": {},
   "outputs": [
    {
     "name": "stdout",
     "output_type": "stream",
     "text": [
      "Test MSE :  0.7630795955235844\n"
     ]
    }
   ],
   "source": [
    "print('Test MSE : ' ,NTFLasso.predict(X_test, y_test))"
   ]
  },
  {
   "cell_type": "code",
   "execution_count": 9,
   "metadata": {},
   "outputs": [
    {
     "name": "stderr",
     "output_type": "stream",
     "text": [
      "/home/gokamath/anaconda3/envs/py373/lib/python3.7/site-packages/networkx/drawing/nx_pylab.py:579: MatplotlibDeprecationWarning: \n",
      "The iterable function was deprecated in Matplotlib 3.1 and will be removed in 3.3. Use np.iterable instead.\n",
      "  if not cb.iterable(width):\n"
     ]
    },
    {
     "data": {
      "image/png": "[encoded data removed]",
      "text/plain": [
       "<Figure size 432x288 with 1 Axes>"
      ]
     },
     "metadata": {},
     "output_type": "display_data"
    }
   ],
   "source": [
    "getTranslatedNodes(NTFLasso.feats_, NTFLasso.regr_.coef_, num_to_node, g)"
   ]
  },
  {
   "cell_type": "markdown",
   "metadata": {},
   "source": [
    "# Ridge"
   ]
  },
  {
   "cell_type": "code",
   "execution_count": 24,
   "metadata": {},
   "outputs": [
    {
     "name": "stderr",
     "output_type": "stream",
     "text": [
      "[Parallel(n_jobs=-1)]: Using backend LokyBackend with 96 concurrent workers.\n",
      "[Parallel(n_jobs=-1)]: Done  15 out of  15 | elapsed:  1.8min finished\n"
     ]
    },
    {
     "name": "stdout",
     "output_type": "stream",
     "text": [
      "----------------------------------------------------------------------------\n",
      "\tSCS v2.1.1 - Splitting Conic Solver\n",
      "\t(c) Brendan O'Donoghue, Stanford University, 2012\n",
      "----------------------------------------------------------------------------\n",
      "Lin-sys: sparse-direct, nnz in A = 20985742\n",
      "eps = 1.00e-04, alpha = 1.50, max_iters = 10000, normalize = 1, scale = 1.00\n",
      "acceleration_lookback = 10, rho_x = 1.00e-03\n",
      "Variables n = 32897, constraints m = 33538\n",
      "Cones:\tsoc vars: 33538, soc blks: 4\n",
      "Setup time: 2.82e+01s\n",
      "----------------------------------------------------------------------------\n",
      " Iter | pri res | dua res | rel gap | pri obj | dua obj | kap/tau | time (s)\n",
      "----------------------------------------------------------------------------\n",
      "     0| 1.54e+21  4.14e+20  1.00e+00 -5.15e+20  5.98e+19  1.52e+20  3.05e-01 \n",
      "    80| 4.81e-11  3.30e-10  1.91e-10  2.03e-02  2.03e-02  2.15e-17  1.42e+01 \n",
      "----------------------------------------------------------------------------\n",
      "Status: Solved\n",
      "Timing: Solve time: 1.42e+01s\n",
      "\tLin-sys: nnz in L factor: 42207584, avg solve time: 1.67e-01s\n",
      "\tCones: avg projection time: 5.83e-05s\n",
      "\tAcceleration: avg step time: 3.04e-03s\n",
      "----------------------------------------------------------------------------\n",
      "Error metrics:\n",
      "dist(s, K) = 3.3307e-16, dist(y, K*) = 2.1684e-19, s'y/|s||y| = -1.3565e-16\n",
      "primal res: |Ax + s - b|_2 / (1 + |b|_2) = 4.8117e-11\n",
      "dual res:   |A'y + c|_2 / (1 + |c|_2) = 3.3044e-10\n",
      "rel gap:    |c'x + b'y| / (1 + |c'x| + |b'y|) = 1.9142e-10\n",
      "----------------------------------------------------------------------------\n",
      "c'x = 0.0203, -b'y = 0.0203\n",
      "============================================================================\n"
     ]
    }
   ],
   "source": [
    "VanillaRidge = LaplacianRegression('Ridge')\n",
    "VanillaRidge.fit(X_train, y_train, X_test, y_test, alpha_list, threshold_list, L=None,\n",
    "                 max_features=max_features, solver=solver, solver_params=solver_params, \n",
    "                 force_features=True, verbose=True, n_jobs=15)"
   ]
  },
  {
   "cell_type": "code",
   "execution_count": 25,
   "metadata": {},
   "outputs": [
    {
     "data": {
      "image/png": "[encoded data removed]",
      "text/plain": [
       "<Figure size 432x288 with 2 Axes>"
      ]
     },
     "metadata": {
      "needs_background": "light"
     },
     "output_type": "display_data"
    }
   ],
   "source": [
    "VanillaRidge.plotgridsearch()"
   ]
  },
  {
   "cell_type": "code",
   "execution_count": 26,
   "metadata": {},
   "outputs": [
    {
     "name": "stdout",
     "output_type": "stream",
     "text": [
      "Test MSE :  0.7349920798714362\n"
     ]
    }
   ],
   "source": [
    "print('Test MSE : ' ,VanillaRidge.predict(X_test, y_test))"
   ]
  },
  {
   "cell_type": "code",
   "execution_count": 73,
   "metadata": {},
   "outputs": [
    {
     "name": "stderr",
     "output_type": "stream",
     "text": [
      "/home/gokamath/anaconda3/envs/py373/lib/python3.7/site-packages/networkx/drawing/nx_pylab.py:579: MatplotlibDeprecationWarning: \n",
      "The iterable function was deprecated in Matplotlib 3.1 and will be removed in 3.3. Use np.iterable instead.\n",
      "  if not cb.iterable(width):\n"
     ]
    },
    {
     "data": {
      "image/png": "[encoded data removed]",
      "text/plain": [
       "<Figure size 432x288 with 1 Axes>"
      ]
     },
     "metadata": {},
     "output_type": "display_data"
    }
   ],
   "source": [
    "getTranslatedNodes(VanillaRidge.feats_, VanillaRidge.regr_.coef_, num_to_node, g,)"
   ]
  },
  {
   "cell_type": "markdown",
   "metadata": {},
   "source": [
    "# NTF-Ridge"
   ]
  },
  {
   "cell_type": "code",
   "execution_count": 46,
   "metadata": {},
   "outputs": [
    {
     "name": "stderr",
     "output_type": "stream",
     "text": [
      "[Parallel(n_jobs=8)]: Using backend LokyBackend with 8 concurrent workers.\n",
      "[Parallel(n_jobs=8)]: Done  15 out of  15 | elapsed: 484.2min finished\n"
     ]
    },
    {
     "name": "stdout",
     "output_type": "stream",
     "text": [
      "----------------------------------------------------------------------------\n",
      "\tSCS v2.1.1 - Splitting Conic Solver\n",
      "\t(c) Brendan O'Donoghue, Stanford University, 2012\n",
      "----------------------------------------------------------------------------\n",
      "Lin-sys: sparse-direct, nnz in A = 277704781\n",
      "eps = 1.00e-04, alpha = 1.50, max_iters = 50000, normalize = 1, scale = 1.00\n",
      "acceleration_lookback = 10, rho_x = 1.00e-03\n",
      "Variables n = 32896, constraints m = 33534\n",
      "Cones:\tsoc vars: 33534, soc blks: 3\n",
      "Setup time: 3.95e+03s\n",
      "----------------------------------------------------------------------------\n",
      " Iter | pri res | dua res | rel gap | pri obj | dua obj | kap/tau | time (s)\n",
      "----------------------------------------------------------------------------\n",
      "     0| 2.23e+20  8.90e+19  1.00e+00 -5.06e+19  5.25e+18  1.26e+20  3.95e+00 \n",
      "    40| 2.74e-09  8.89e-11  3.33e-11  1.73e-02  1.73e-02  3.36e-18  5.31e+01 \n",
      "----------------------------------------------------------------------------\n",
      "Status: Solved\n",
      "Timing: Solve time: 5.31e+01s\n",
      "\tLin-sys: nnz in L factor: 427269575, avg solve time: 1.20e+00s\n",
      "\tCones: avg projection time: 4.66e-05s\n",
      "\tAcceleration: avg step time: 3.89e-03s\n",
      "----------------------------------------------------------------------------\n",
      "Error metrics:\n",
      "dist(s, K) = 7.7716e-16, dist(y, K*) = 0.0000e+00, s'y/|s||y| = 2.5645e-15\n",
      "primal res: |Ax + s - b|_2 / (1 + |b|_2) = 2.7421e-09\n",
      "dual res:   |A'y + c|_2 / (1 + |c|_2) = 8.8883e-11\n",
      "rel gap:    |c'x + b'y| / (1 + |c'x| + |b'y|) = 3.3253e-11\n",
      "----------------------------------------------------------------------------\n",
      "c'x = 0.0173, -b'y = 0.0173\n",
      "============================================================================\n"
     ]
    }
   ],
   "source": [
    "NTFRidge = LaplacianRegression('Ridge')\n",
    "NTFRidge.fit(X_train, y_train, X_test, y_test, alpha_list, threshold_list, L=L_norm,\n",
    "             max_features=max_features, solver=solver, solver_params=solver_params,\n",
    "             force_features=True, verbose=True, n_jobs=8)"
   ]
  },
  {
   "cell_type": "code",
   "execution_count": 49,
   "metadata": {},
   "outputs": [
    {
     "data": {
      "image/png": "[encoded data removed]",
      "text/plain": [
       "<Figure size 432x288 with 2 Axes>"
      ]
     },
     "metadata": {
      "needs_background": "light"
     },
     "output_type": "display_data"
    }
   ],
   "source": [
    "NTFRidge.plotgridsearch()"
   ]
  },
  {
   "cell_type": "code",
   "execution_count": 50,
   "metadata": {},
   "outputs": [
    {
     "name": "stdout",
     "output_type": "stream",
     "text": [
      "Test MSE :  0.8016145998803352\n"
     ]
    }
   ],
   "source": [
    "print('Test MSE : ' ,NTFRidge.predict(X_test, y_test))"
   ]
  },
  {
   "cell_type": "code",
   "execution_count": 48,
   "metadata": {},
   "outputs": [
    {
     "data": {
      "image/png": "[encoded data removed]",
      "text/plain": [
       "<Figure size 432x288 with 1 Axes>"
      ]
     },
     "metadata": {},
     "output_type": "display_data"
    }
   ],
   "source": [
    "getTranslatedNodes(NTFRidge.feats_, NTFRidge.regr_.coef_, num_to_node, g, )"
   ]
  },
  {
   "cell_type": "markdown",
   "metadata": {},
   "source": [
    "# TF-Lasso (Graph TF)"
   ]
  },
  {
   "cell_type": "code",
   "execution_count": null,
   "metadata": {},
   "outputs": [],
   "source": [
    "TFLasso = LaplacianRegression('Lasso')\n",
    "TFLasso.fit(X_train, y_train, X_test, y_test, alpha_list, threshold_list, L=L,\n",
    "            max_features=max_features, solver=solver, solver_params=solver_params,\n",
    "            force_features=True, verbose=True, n_jobs=8)"
   ]
  },
  {
   "cell_type": "code",
   "execution_count": 13,
   "metadata": {},
   "outputs": [
    {
     "data": {
      "image/png": "[encoded data removed]",
      "text/plain": [
       "<Figure size 432x288 with 2 Axes>"
      ]
     },
     "metadata": {
      "needs_background": "light"
     },
     "output_type": "display_data"
    }
   ],
   "source": [
    "TFLasso.plotgridsearch()"
   ]
  },
  {
   "cell_type": "code",
   "execution_count": 14,
   "metadata": {},
   "outputs": [
    {
     "name": "stdout",
     "output_type": "stream",
     "text": [
      "Test MSE :  0.8508748874905259\n"
     ]
    }
   ],
   "source": [
    "print('Test MSE : ' ,TFLasso.predict(X_test, y_test))"
   ]
  },
  {
   "cell_type": "code",
   "execution_count": 15,
   "metadata": {},
   "outputs": [
    {
     "data": {
      "image/png": "[encoded data removed]",
      "text/plain": [
       "<Figure size 432x288 with 1 Axes>"
      ]
     },
     "metadata": {},
     "output_type": "display_data"
    }
   ],
   "source": [
    "getTranslatedNodes(TFLasso.feats_, TFLasso.regr_.coef_, num_to_node, g,)"
   ]
  },
  {
   "cell_type": "markdown",
   "metadata": {},
   "source": [
    "# Nonconvex Penalties (MCP, SCAD)"
   ]
  },
  {
   "cell_type": "code",
   "execution_count": 27,
   "metadata": {},
   "outputs": [
    {
     "name": "stdout",
     "output_type": "stream",
     "text": [
      "Training is over.\n",
      "Test MSE :  0.9325904876230542\n"
     ]
    },
    {
     "data": {
      "image/png": "[encoded data removed]",
      "text/plain": [
       "<Figure size 432x288 with 1 Axes>"
      ]
     },
     "metadata": {},
     "output_type": "display_data"
    }
   ],
   "source": [
    "MCP = NonConvexRegression(penalty ='mcp')\n",
    "MCP.fit(X_train, y_train, X_train, y_train, X_test, y_test, \n",
    "        alpha_list, threshold_list, max_features=max_features, force_features=True)\n",
    "print('Test MSE : ' ,MCP.predict(X_test, y_test))\n",
    "getTranslatedNodes(MCP.feats_, MCP.regr_.coef_, num_to_node, g, save_location = '../figures/OpenPBTA_MCP.png')"
   ]
  },
  {
   "cell_type": "code",
   "execution_count": 28,
   "metadata": {},
   "outputs": [
    {
     "name": "stdout",
     "output_type": "stream",
     "text": [
      "Training is over.\n",
      "Test MSE :  0.8098415382250783\n"
     ]
    },
    {
     "data": {
      "image/png": "[encoded data removed]",
      "text/plain": [
       "<Figure size 432x288 with 1 Axes>"
      ]
     },
     "metadata": {},
     "output_type": "display_data"
    }
   ],
   "source": [
    "SCAD = NonConvexRegression(penalty = 'scad')\n",
    "SCAD.fit(X_train, y_train, X_train, y_train, X_test, y_test, \n",
    "         alpha_list, threshold_list, max_features=max_features, force_features=True)\n",
    "print('Test MSE : ' ,SCAD.predict(X_test, y_test))\n",
    "getTranslatedNodes(SCAD.feats_, SCAD.regr_.coef_, num_to_node, g, save_location = '../figures/OpenPBTA_SCAD.png')"
   ]
  },
  {
   "cell_type": "markdown",
   "metadata": {},
   "source": [
    "# NTF-Nonconvex Penalties (NTF-MCP, NTF-SCAD) "
   ]
  },
  {
   "cell_type": "code",
   "execution_count": 29,
   "metadata": {},
   "outputs": [],
   "source": [
    "X_train_new =  X_train.dot(L_norm_dagger)\n",
    "X_test_new = X_test.dot(L_norm_dagger) "
   ]
  },
  {
   "cell_type": "code",
   "execution_count": 32,
   "metadata": {},
   "outputs": [
    {
     "name": "stdout",
     "output_type": "stream",
     "text": [
      "Training is over.\n",
      "Test MSE :  0.7334089272390887\n"
     ]
    },
    {
     "data": {
      "image/png": "[encoded data removed]",
      "text/plain": [
       "<Figure size 432x288 with 1 Axes>"
      ]
     },
     "metadata": {},
     "output_type": "display_data"
    }
   ],
   "source": [
    "NTFMCP = NonConvexRegression(penalty ='mcp')\n",
    "NTFMCP.fit(X_train_new, y_train, X_train, y_train, X_test, y_test,\n",
    "           alpha_list, threshold_list, max_features=max_features, force_features=True)\n",
    "print('Test MSE : ' ,NTFMCP.predict(X_test, y_test))\n",
    "getTranslatedNodes(NTFMCP.feats_, NTFMCP.regr_.coef_, num_to_node, g, save_location = '../figures/OpenPBTA_NTF-MCP.png')"
   ]
  },
  {
   "cell_type": "code",
   "execution_count": 33,
   "metadata": {},
   "outputs": [
    {
     "name": "stdout",
     "output_type": "stream",
     "text": [
      "Training is over.\n",
      "Test MSE :  0.7528102744061814\n"
     ]
    },
    {
     "data": {
      "image/png": "[encoded data removed]",
      "text/plain": [
       "<Figure size 432x288 with 1 Axes>"
      ]
     },
     "metadata": {},
     "output_type": "display_data"
    }
   ],
   "source": [
    "NTFSCAD = NonConvexRegression(penalty ='scad')\n",
    "NTFSCAD.fit(X_train_new, y_train, X_train, y_train, X_test, y_test, \n",
    "            alpha_list, threshold_list, max_features=max_features, force_features=True)\n",
    "print('Test MSE : ' ,NTFSCAD.predict(X_test, y_test))\n",
    "getTranslatedNodes(NTFSCAD.feats_, NTFSCAD.regr_.coef_, num_to_node, g, save_location = '../figures/OpenPBTA_NTF-SCAD.png')"
   ]
  },
  {
   "cell_type": "markdown",
   "metadata": {},
   "source": [
    "# Shuffled Features"
   ]
  },
  {
   "cell_type": "code",
   "execution_count": 36,
   "metadata": {},
   "outputs": [],
   "source": [
    "# scramble feature order\n",
    "random.seed(42)\n",
    "feat_idx = list(range(X.shape[1]))\n",
    "random.shuffle(feat_idx)\n",
    "X_shuf = deepcopy(X[:,feat_idx])\n",
    "\n",
    "# split for training\n",
    "X_train, X_test, y_train, y_test = train_test_split(X_shuf, y, test_size=0.20, random_state=42)\n",
    "\n",
    "# scaling X\n",
    "scaler_X = StandardScaler()\n",
    "X_train = scaler_X.fit_transform(X_train)\n",
    "X_test = scaler_X.transform(X_test)\n",
    "\n",
    "# scalying y\n",
    "scaler_y = StandardScaler()\n",
    "y_train = scaler_y.fit_transform(y_train).reshape(-1)\n",
    "y_test = scaler_y.transform(y_test).reshape(-1)"
   ]
  },
  {
   "cell_type": "code",
   "execution_count": null,
   "metadata": {},
   "outputs": [],
   "source": [
    "ShuffledNTFLasso = LaplacianRegression('Lasso')\n",
    "ShuffledNTFLasso.fit(X_train, y_train, X_test, y_test, alpha_list, threshold_list, L=L_norm, \n",
    "                     max_features=max_features, solver=solver, solver_params=solver_params, \n",
    "                     force_features=True, verbose=False, n_jobs=1)\n",
    "print('Test MSE : ' ,ShuffledNTFLasso.predict(X_test, y_test))\n",
    "getTranslatedNodes(ShuffledNTFLasso.feats_, ShuffledNTFLasso.regr_.coef_, num_to_node, g, save_location=None)"
   ]
  },
  {
   "cell_type": "code",
   "execution_count": 41,
   "metadata": {},
   "outputs": [
    {
     "name": "stdout",
     "output_type": "stream",
     "text": [
      "Test MSE :  0.8016145998803352\n"
     ]
    },
    {
     "data": {
      "image/png": "[encoded data removed]",
      "text/plain": [
       "<Figure size 432x288 with 1 Axes>"
      ]
     },
     "metadata": {},
     "output_type": "display_data"
    }
   ],
   "source": [
    "print('Test MSE : ' ,ShuffledNTFLasso.predict(X_test, y_test))\n",
    "getTranslatedNodes(ShuffledNTFLasso.feats_, ShuffledNTFLasso.regr_.coef_, num_to_node, g, save_location=None)"
   ]
  },
  {
   "cell_type": "code",
   "execution_count": 44,
   "metadata": {},
   "outputs": [
    {
     "name": "stdout",
     "output_type": "stream",
     "text": [
      "Training is over.\n",
      "Test MSE :  0.9116722609149821\n"
     ]
    },
    {
     "data": {
      "image/png": "[encoded data removed]",
      "text/plain": [
       "<Figure size 432x288 with 1 Axes>"
      ]
     },
     "metadata": {},
     "output_type": "display_data"
    }
   ],
   "source": [
    "X_train_new =  X_train.dot(L_norm_dagger)\n",
    "X_test_new = X_test.dot(L_norm_dagger) \n",
    "\n",
    "ShuffledNTFMCP = NonConvexRegression(penalty ='mcp')\n",
    "ShuffledNTFMCP.fit(X_train_new, y_train, X_train, y_train, X_test, y_test, \n",
    "                   alpha_list, threshold_list, max_features=max_features, force_features=True)\n",
    "print('Test MSE : ' ,ShuffledNTFMCP.predict(X_test, y_test))\n",
    "getTranslatedNodes(ShuffledNTFMCP.feats_, ShuffledNTFMCP.regr_.coef_, num_to_node, g, save_location = '../figures/OpenPBTA_NTF-MCPshuf.png')"
   ]
  },
  {
   "cell_type": "code",
   "execution_count": 45,
   "metadata": {},
   "outputs": [
    {
     "name": "stdout",
     "output_type": "stream",
     "text": [
      "Training is over.\n",
      "Test MSE :  0.759413700784938\n"
     ]
    },
    {
     "data": {
      "image/png": "[encoded data removed]",
      "text/plain": [
       "<Figure size 432x288 with 1 Axes>"
      ]
     },
     "metadata": {},
     "output_type": "display_data"
    }
   ],
   "source": [
    "ShuffledNTFSCAD = NonConvexRegression(penalty ='scad')\n",
    "ShuffledNTFSCAD.fit(X_train_new, y_train, X_train, y_train, X_test, y_test,\n",
    "                    alpha_list, threshold_list, max_features=max_features, force_features=True)\n",
    "print('Test MSE : ' ,ShuffledNTFSCAD.predict(X_test, y_test))\n",
    "getTranslatedNodes(ShuffledNTFSCAD.feats_, ShuffledNTFSCAD.regr_.coef_, num_to_node, g, save_location = '../figures/OpenPBTA_NTF-SCADshuf.png')"
   ]
  },
  {
   "cell_type": "markdown",
   "metadata": {},
   "source": [
    "#### Elapsed time"
   ]
  },
  {
   "cell_type": "code",
   "execution_count": 16,
   "metadata": {},
   "outputs": [
    {
     "name": "stdout",
     "output_type": "stream",
     "text": [
      "Elapsed Time :  134899.9803097248\n"
     ]
    }
   ],
   "source": [
    "print( 'Elapsed Time : ', time.time() - start_time)"
   ]
  }
 ],
 "metadata": {
  "kernelspec": {
   "display_name": "Python 3",
   "language": "python",
   "name": "python3"
  },
  "language_info": {
   "codemirror_mode": {
    "name": "ipython",
    "version": 3
   },
   "file_extension": ".py",
   "mimetype": "text/x-python",
   "name": "python",
   "nbconvert_exporter": "python",
   "pygments_lexer": "ipython3",
   "version": "3.7.4"
  }
 },
 "nbformat": 4,
 "nbformat_minor": 2
}
